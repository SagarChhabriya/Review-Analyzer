{
 "cells": [
  {
   "cell_type": "markdown",
   "metadata": {},
   "source": [
    "## Setting the environment"
   ]
  },
  {
   "cell_type": "code",
   "execution_count": 77,
   "metadata": {},
   "outputs": [
    {
     "name": "stderr",
     "output_type": "stream",
     "text": [
      "[nltk_data] Downloading package stopwords to\n",
      "[nltk_data]     C:\\Users\\salma\\AppData\\Roaming\\nltk_data...\n",
      "[nltk_data]   Package stopwords is already up-to-date!\n"
     ]
    }
   ],
   "source": [
    "# Importing essential libraries and functions\n",
    "\n",
    "import pandas as pd\n",
    "import numpy as np\n",
    "import re\n",
    "import nltk\n",
    "nltk.download('stopwords')\n",
    "from nltk.tokenize import word_tokenize\n",
    "from nltk.corpus import stopwords\n",
    "from nltk.stem import WordNetLemmatizer\n",
    "from numpy import array\n",
    "\n",
    "import tensorflow\n",
    "from tensorflow import keras\n",
    "from tensorflow.keras.preprocessing.text import one_hot, Tokenizer\n",
    "from tensorflow.keras.preprocessing.sequence import pad_sequences\n",
    "from tensorflow.keras.models import Sequential\n",
    "from tensorflow.keras.layers import Activation, Dropout, Dense\n",
    "from tensorflow.keras.layers import Flatten, GlobalMaxPooling1D, Embedding, Conv1D, LSTM\n",
    "from tensorflow.keras.layers import Embedding, SpatialDropout1D, Bidirectional, LSTM, Dense, Dropout\n",
    "from tensorflow.keras.optimizers import Adam\n",
    "from sklearn.model_selection import train_test_split\n",
    "from tensorflow.keras.layers import Conv1D, MaxPooling1D\n",
    "import matplotlib.pyplot as plt\n",
    "from keras.layers import Conv1D\n"
   ]
  },
  {
   "cell_type": "markdown",
   "metadata": {},
   "source": [
    "## Loading DataSet"
   ]
  },
  {
   "cell_type": "code",
   "execution_count": 82,
   "metadata": {},
   "outputs": [
    {
     "data": {
      "text/plain": [
       "(11639, 3)"
      ]
     },
     "execution_count": 82,
     "metadata": {},
     "output_type": "execute_result"
    }
   ],
   "source": [
    "reviews_data = pd.read_csv(\"corrected_reviews.csv\")\n",
    "reviews_data.shape"
   ]
  },
  {
   "cell_type": "code",
   "execution_count": 83,
   "metadata": {},
   "outputs": [
    {
     "data": {
      "text/html": [
       "<div>\n",
       "<style scoped>\n",
       "    .dataframe tbody tr th:only-of-type {\n",
       "        vertical-align: middle;\n",
       "    }\n",
       "\n",
       "    .dataframe tbody tr th {\n",
       "        vertical-align: top;\n",
       "    }\n",
       "\n",
       "    .dataframe thead th {\n",
       "        text-align: right;\n",
       "    }\n",
       "</style>\n",
       "<table border=\"1\" class=\"dataframe\">\n",
       "  <thead>\n",
       "    <tr style=\"text-align: right;\">\n",
       "      <th></th>\n",
       "      <th>Sentiments</th>\n",
       "      <th>Reviews</th>\n",
       "      <th>language</th>\n",
       "    </tr>\n",
       "  </thead>\n",
       "  <tbody>\n",
       "    <tr>\n",
       "      <th>0</th>\n",
       "      <td>1</td>\n",
       "      <td>great original product great discount</td>\n",
       "      <td>en</td>\n",
       "    </tr>\n",
       "    <tr>\n",
       "      <th>1</th>\n",
       "      <td>0</td>\n",
       "      <td>trouser stuff good shirt poor quality</td>\n",
       "      <td>en</td>\n",
       "    </tr>\n",
       "    <tr>\n",
       "      <th>2</th>\n",
       "      <td>0</td>\n",
       "      <td>not leather jacket magazine quality not per de...</td>\n",
       "      <td>en</td>\n",
       "    </tr>\n",
       "    <tr>\n",
       "      <th>3</th>\n",
       "      <td>1</td>\n",
       "      <td>picture really good fabric received earlier gi...</td>\n",
       "      <td>en</td>\n",
       "    </tr>\n",
       "    <tr>\n",
       "      <th>4</th>\n",
       "      <td>0</td>\n",
       "      <td>fragrance short shelf life months started deve...</td>\n",
       "      <td>en</td>\n",
       "    </tr>\n",
       "  </tbody>\n",
       "</table>\n",
       "</div>"
      ],
      "text/plain": [
       "   Sentiments                                            Reviews language\n",
       "0           1              great original product great discount       en\n",
       "1           0              trouser stuff good shirt poor quality       en\n",
       "2           0  not leather jacket magazine quality not per de...       en\n",
       "3           1  picture really good fabric received earlier gi...       en\n",
       "4           0  fragrance short shelf life months started deve...       en"
      ]
     },
     "execution_count": 83,
     "metadata": {},
     "output_type": "execute_result"
    }
   ],
   "source": [
    "reviews_data.head(5)"
   ]
  },
  {
   "cell_type": "code",
   "execution_count": 84,
   "metadata": {},
   "outputs": [
    {
     "data": {
      "text/plain": [
       "False"
      ]
     },
     "execution_count": 84,
     "metadata": {},
     "output_type": "execute_result"
    }
   ],
   "source": [
    "reviews_data = reviews_data.dropna(subset=['Reviews'])\n",
    "# Checking for missing values\n",
    "\n",
    "reviews_data.isnull().values.any()"
   ]
  },
  {
   "cell_type": "code",
   "execution_count": 85,
   "metadata": {},
   "outputs": [
    {
     "data": {
      "text/plain": [
       "<Axes: xlabel='Sentiments', ylabel='count'>"
      ]
     },
     "execution_count": 85,
     "metadata": {},
     "output_type": "execute_result"
    },
    {
     "data": {
      "image/png": "[encoded data removed]",
      "text/plain": [
       "<Figure size 640x480 with 1 Axes>"
      ]
     },
     "metadata": {},
     "output_type": "display_data"
    }
   ],
   "source": [
    "# Let's observe distribution of positive / negative sentiments in dataset\n",
    "\n",
    "import seaborn as sns\n",
    "sns.countplot(x='Sentiments', data=reviews_data)"
   ]
  },
  {
   "cell_type": "markdown",
   "metadata": {},
   "source": [
    "## Data Preprocessing"
   ]
  },
  {
   "cell_type": "code",
   "execution_count": 86,
   "metadata": {},
   "outputs": [
    {
     "data": {
      "text/plain": [
       "'nice accessory pad pro honestly can without personally not going use much thought would not see use not artist something honest pen galaxy note amazing apple pencil honest opinion get use tireless magnetic keyboard came pad pro case pencil sending mine back getting refund'"
      ]
     },
     "execution_count": 86,
     "metadata": {},
     "output_type": "execute_result"
    }
   ],
   "source": [
    "reviews_data[\"Reviews\"][100]\n",
    "# You can see that our text contains punctuations, brackets and numbers"
   ]
  },
  {
   "cell_type": "code",
   "execution_count": 87,
   "metadata": {},
   "outputs": [],
   "source": [
    "TAG_RE = re.compile(r'<[^>]+>')\n",
    "\n",
    "def remove_tags(text):\n",
    "    '''Removes HTML tags: replaces anything between opening and closing <> with empty space'''\n",
    "\n",
    "    return TAG_RE.sub('', text)"
   ]
  },
  {
   "cell_type": "code",
   "execution_count": 88,
   "metadata": {},
   "outputs": [],
   "source": [
    "#\"not\" plays an important role on reviews\n",
    "contractions_dict = {\n",
    "    r\"don't\": \"do not\",\n",
    "    r\"doesn't\": \"does not\",\n",
    "    r\"didn't\": \"did not\",\n",
    "    r\"haven't\": \"have not\",\n",
    "    r\"hasn't\": \"has not\",\n",
    "    r\"hadn't\": \"had not\",\n",
    "    r\"won't\": \"will not\",\n",
    "    r\"wouldn't\": \"would not\",\n",
    "    r\"couldn't\": \"could not\",\n",
    "    r\"shouldn't\": \"should not\",\n",
    "    r\"mightn't\": \"might not\",\n",
    "    r\"mustn't\": \"must not\",\n",
    "    r\"weren't\": \"were not\",\n",
    "    r\"wasn't\": \"was not\",\n",
    "    r\"ain't\": \"is not\",\n",
    "    r\"won't\": \"would not\"\n",
    "}\n",
    "def expand_contractions(text):\n",
    "    for contraction, expanded_form in contractions_dict.items():\n",
    "        text = re.sub(contraction, expanded_form, text, flags=re.IGNORECASE)\n",
    "    return text"
   ]
  },
  {
   "cell_type": "code",
   "execution_count": 89,
   "metadata": {},
   "outputs": [],
   "source": [
    "def preprocess_text(text):\n",
    "     # Remove html tags\n",
    "    text = remove_tags(text)\n",
    "\n",
    "    #expanded forms\n",
    "    text = expand_contractions(text)\n",
    "    # Tokenization\n",
    "    tokens = word_tokenize(text)\n",
    "    \n",
    "    # Text Normalization\n",
    "    tokens = [token.lower() for token in tokens]  # convert to lowercase\n",
    "    tokens = [token for token in tokens if token.isalpha()]  # remove punctuation and numbers\n",
    "\n",
    "    # Stopword Removal\n",
    "    stop_words = set(stopwords.words('english'))\n",
    "    stop_words.remove('not')\n",
    "    tokens = [token for token in tokens if token not in stop_words]\n",
    "    \n",
    "    lemmatizer = WordNetLemmatizer()\n",
    "    tokens = [lemmatizer.lemmatize(token) for token in tokens]  # lemmatization\n",
    "\n",
    "    text = ' '.join(tokens)\n",
    "\n",
    "    return text\n",
    "\n",
    "\n",
    "reviews_data['Reviews'] = reviews_data['Reviews'].apply(preprocess_text)"
   ]
  },
  {
   "cell_type": "code",
   "execution_count": 90,
   "metadata": {},
   "outputs": [
    {
     "data": {
      "text/plain": [
       "'nice accessory pad pro honestly without personally not going use much thought would not see use not artist something honest pen galaxy note amazing apple pencil honest opinion get use tireless magnetic keyboard came pad pro case pencil sending mine back getting refund'"
      ]
     },
     "execution_count": 90,
     "metadata": {},
     "output_type": "execute_result"
    }
   ],
   "source": [
    "reviews_data[\"Reviews\"][100]"
   ]
  },
  {
   "cell_type": "code",
   "execution_count": 91,
   "metadata": {},
   "outputs": [
    {
     "data": {
      "text/html": [
       "<div>\n",
       "<style scoped>\n",
       "    .dataframe tbody tr th:only-of-type {\n",
       "        vertical-align: middle;\n",
       "    }\n",
       "\n",
       "    .dataframe tbody tr th {\n",
       "        vertical-align: top;\n",
       "    }\n",
       "\n",
       "    .dataframe thead th {\n",
       "        text-align: right;\n",
       "    }\n",
       "</style>\n",
       "<table border=\"1\" class=\"dataframe\">\n",
       "  <thead>\n",
       "    <tr style=\"text-align: right;\">\n",
       "      <th></th>\n",
       "      <th>Sentiments</th>\n",
       "      <th>Reviews</th>\n",
       "      <th>language</th>\n",
       "    </tr>\n",
       "  </thead>\n",
       "  <tbody>\n",
       "    <tr>\n",
       "      <th>0</th>\n",
       "      <td>1</td>\n",
       "      <td>great original product great discount</td>\n",
       "      <td>en</td>\n",
       "    </tr>\n",
       "    <tr>\n",
       "      <th>1</th>\n",
       "      <td>0</td>\n",
       "      <td>trouser stuff good shirt poor quality</td>\n",
       "      <td>en</td>\n",
       "    </tr>\n",
       "    <tr>\n",
       "      <th>2</th>\n",
       "      <td>0</td>\n",
       "      <td>not leather jacket magazine quality not per de...</td>\n",
       "      <td>en</td>\n",
       "    </tr>\n",
       "    <tr>\n",
       "      <th>3</th>\n",
       "      <td>1</td>\n",
       "      <td>picture really good fabric received earlier gi...</td>\n",
       "      <td>en</td>\n",
       "    </tr>\n",
       "    <tr>\n",
       "      <th>4</th>\n",
       "      <td>0</td>\n",
       "      <td>fragrance short shelf life month started devel...</td>\n",
       "      <td>en</td>\n",
       "    </tr>\n",
       "    <tr>\n",
       "      <th>...</th>\n",
       "      <td>...</td>\n",
       "      <td>...</td>\n",
       "      <td>...</td>\n",
       "    </tr>\n",
       "    <tr>\n",
       "      <th>11634</th>\n",
       "      <td>0</td>\n",
       "      <td>connected motordata pp year subscription carsc...</td>\n",
       "      <td>en</td>\n",
       "    </tr>\n",
       "    <tr>\n",
       "      <th>11635</th>\n",
       "      <td>1</td>\n",
       "      <td>ana best quality dismounted product excellent ...</td>\n",
       "      <td>en</td>\n",
       "    </tr>\n",
       "    <tr>\n",
       "      <th>11636</th>\n",
       "      <td>1</td>\n",
       "      <td>good quality one important thing want buy go b...</td>\n",
       "      <td>en</td>\n",
       "    </tr>\n",
       "    <tr>\n",
       "      <th>11637</th>\n",
       "      <td>1</td>\n",
       "      <td>useful storage</td>\n",
       "      <td>en</td>\n",
       "    </tr>\n",
       "    <tr>\n",
       "      <th>11638</th>\n",
       "      <td>1</td>\n",
       "      <td>shown picture good quality best price recommen...</td>\n",
       "      <td>en</td>\n",
       "    </tr>\n",
       "  </tbody>\n",
       "</table>\n",
       "<p>11638 rows × 3 columns</p>\n",
       "</div>"
      ],
      "text/plain": [
       "       Sentiments                                            Reviews language\n",
       "0               1              great original product great discount       en\n",
       "1               0              trouser stuff good shirt poor quality       en\n",
       "2               0  not leather jacket magazine quality not per de...       en\n",
       "3               1  picture really good fabric received earlier gi...       en\n",
       "4               0  fragrance short shelf life month started devel...       en\n",
       "...           ...                                                ...      ...\n",
       "11634           0  connected motordata pp year subscription carsc...       en\n",
       "11635           1  ana best quality dismounted product excellent ...       en\n",
       "11636           1  good quality one important thing want buy go b...       en\n",
       "11637           1                                     useful storage       en\n",
       "11638           1  shown picture good quality best price recommen...       en\n",
       "\n",
       "[11638 rows x 3 columns]"
      ]
     },
     "execution_count": 91,
     "metadata": {},
     "output_type": "execute_result"
    }
   ],
   "source": [
    "reviews_data"
   ]
  },
  {
   "cell_type": "code",
   "execution_count": 92,
   "metadata": {},
   "outputs": [],
   "source": [
    "X_train, X_test, y_train, y_test = train_test_split(reviews_data[\"Reviews\"],reviews_data[\"Sentiments\"], test_size=0.20, random_state=42)"
   ]
  },
  {
   "cell_type": "markdown",
   "metadata": {},
   "source": [
    "## Preparing Input layer"
   ]
  },
  {
   "cell_type": "markdown",
   "metadata": {},
   "source": [
    "Let's now write the script for our embedding layer. Embedding layer converts our textual data into numeric form. It is then **used as the first layer for the deep learning models in Keras**."
   ]
  },
  {
   "cell_type": "code",
   "execution_count": 93,
   "metadata": {},
   "outputs": [],
   "source": [
    "# Embedding layer expects the words to be in numeric form \n",
    "# Using Tokenizer function from keras.preprocessing.text library\n",
    "# Method fit_on_text trains the tokenizer \n",
    "# Method texts_to_sequences converts sentences to their numeric form\n",
    "\n",
    "word_tokenizer = Tokenizer()\n",
    "word_tokenizer.fit_on_texts(X_train)\n",
    "\n",
    "X_train = word_tokenizer.texts_to_sequences(X_train)\n",
    "X_test = word_tokenizer.texts_to_sequences(X_test)"
   ]
  },
  {
   "cell_type": "code",
   "execution_count": 94,
   "metadata": {},
   "outputs": [
    {
     "data": {
      "text/plain": [
       "5169"
      ]
     },
     "execution_count": 94,
     "metadata": {},
     "output_type": "execute_result"
    }
   ],
   "source": [
    "# Adding 1 to store dimensions for words for which no pretrained word embeddings exist\n",
    "\n",
    "vocab_length = len(word_tokenizer.word_index) + 1\n",
    "\n",
    "vocab_length"
   ]
  },
  {
   "cell_type": "code",
   "execution_count": 95,
   "metadata": {},
   "outputs": [],
   "source": [
    "# Padding all reviews to fixed length 100\n",
    "\n",
    "maxlen = 100\n",
    "\n",
    "X_train = pad_sequences(X_train, padding='post', maxlen=maxlen)\n",
    "X_test = pad_sequences(X_test, padding='post', maxlen=maxlen)"
   ]
  },
  {
   "cell_type": "code",
   "execution_count": 96,
   "metadata": {},
   "outputs": [],
   "source": [
    "def create_embedding_matrix(file_path, word_index, embedding_dim):\n",
    "    # Step 6: Vocabulary size\n",
    "    vocab_size = len(word_index) + 1\n",
    "    \n",
    "    # Step 8: Initialize the embedding matrix with zeros\n",
    "    embedding_matrix = np.zeros((vocab_size, embedding_dim))\n",
    "    \n",
    "    # Step 10: Open the embedding file\n",
    "    with open(file_path, encoding='utf-8') as file:\n",
    "        for line in file:\n",
    "            # Step 13: Extract the word and its corresponding vector\n",
    "            values = line.split()\n",
    "            word = values[0]\n",
    "            vector = np.asarray(values[1:], dtype='float32')\n",
    "            \n",
    "            # Step 15: If the word is in word_index\n",
    "            if word in word_index:\n",
    "                # Step 17: Get the word index\n",
    "                idx = word_index[word]\n",
    "                \n",
    "                # Step 19: Extract the embedding vector\n",
    "                embedding_matrix[idx] = vector[:embedding_dim]\n",
    "    \n",
    "    # Step 22: Return the embedding matrix\n",
    "    return embedding_matrix\n",
    "\n",
    "file_path = 'a2_glove.6B.100d.txt' \n",
    "embedding_dim = 100\n",
    "\n",
    "embedding_matrix = create_embedding_matrix(file_path, word_tokenizer.word_index, embedding_dim)"
   ]
  },
  {
   "cell_type": "code",
   "execution_count": 97,
   "metadata": {},
   "outputs": [
    {
     "data": {
      "text/plain": [
       "(5169, 100)"
      ]
     },
     "execution_count": 97,
     "metadata": {},
     "output_type": "execute_result"
    }
   ],
   "source": [
    "embedding_matrix.shape"
   ]
  },
  {
   "cell_type": "markdown",
   "metadata": {},
   "source": [
    "# Model Training with:"
   ]
  },
  {
   "cell_type": "markdown",
   "metadata": {},
   "source": [
    "## Randoem Forest Classifier"
   ]
  },
  {
   "cell_type": "code",
   "execution_count": 98,
   "metadata": {},
   "outputs": [
    {
     "data": {
      "text/html": [
       "<style>#sk-container-id-3 {color: black;background-color: white;}#sk-container-id-3 pre{padding: 0;}#sk-container-id-3 div.sk-toggleable {background-color: white;}#sk-container-id-3 label.sk-toggleable__label {cursor: pointer;display: block;width: 100%;margin-bottom: 0;padding: 0.3em;box-sizing: border-box;text-align: center;}#sk-container-id-3 label.sk-toggleable__label-arrow:before {content: \"▸\";float: left;margin-right: 0.25em;color: #696969;}#sk-container-id-3 label.sk-toggleable__label-arrow:hover:before {color: black;}#sk-container-id-3 div.sk-estimator:hover label.sk-toggleable__label-arrow:before {color: black;}#sk-container-id-3 div.sk-toggleable__content {max-height: 0;max-width: 0;overflow: hidden;text-align: left;background-color: #f0f8ff;}#sk-container-id-3 div.sk-toggleable__content pre {margin: 0.2em;color: black;border-radius: 0.25em;background-color: #f0f8ff;}#sk-container-id-3 input.sk-toggleable__control:checked~div.sk-toggleable__content {max-height: 200px;max-width: 100%;overflow: auto;}#sk-container-id-3 input.sk-toggleable__control:checked~label.sk-toggleable__label-arrow:before {content: \"▾\";}#sk-container-id-3 div.sk-estimator input.sk-toggleable__control:checked~label.sk-toggleable__label {background-color: #d4ebff;}#sk-container-id-3 div.sk-label input.sk-toggleable__control:checked~label.sk-toggleable__label {background-color: #d4ebff;}#sk-container-id-3 input.sk-hidden--visually {border: 0;clip: rect(1px 1px 1px 1px);clip: rect(1px, 1px, 1px, 1px);height: 1px;margin: -1px;overflow: hidden;padding: 0;position: absolute;width: 1px;}#sk-container-id-3 div.sk-estimator {font-family: monospace;background-color: #f0f8ff;border: 1px dotted black;border-radius: 0.25em;box-sizing: border-box;margin-bottom: 0.5em;}#sk-container-id-3 div.sk-estimator:hover {background-color: #d4ebff;}#sk-container-id-3 div.sk-parallel-item::after {content: \"\";width: 100%;border-bottom: 1px solid gray;flex-grow: 1;}#sk-container-id-3 div.sk-label:hover label.sk-toggleable__label {background-color: #d4ebff;}#sk-container-id-3 div.sk-serial::before {content: \"\";position: absolute;border-left: 1px solid gray;box-sizing: border-box;top: 0;bottom: 0;left: 50%;z-index: 0;}#sk-container-id-3 div.sk-serial {display: flex;flex-direction: column;align-items: center;background-color: white;padding-right: 0.2em;padding-left: 0.2em;position: relative;}#sk-container-id-3 div.sk-item {position: relative;z-index: 1;}#sk-container-id-3 div.sk-parallel {display: flex;align-items: stretch;justify-content: center;background-color: white;position: relative;}#sk-container-id-3 div.sk-item::before, #sk-container-id-3 div.sk-parallel-item::before {content: \"\";position: absolute;border-left: 1px solid gray;box-sizing: border-box;top: 0;bottom: 0;left: 50%;z-index: -1;}#sk-container-id-3 div.sk-parallel-item {display: flex;flex-direction: column;z-index: 1;position: relative;background-color: white;}#sk-container-id-3 div.sk-parallel-item:first-child::after {align-self: flex-end;width: 50%;}#sk-container-id-3 div.sk-parallel-item:last-child::after {align-self: flex-start;width: 50%;}#sk-container-id-3 div.sk-parallel-item:only-child::after {width: 0;}#sk-container-id-3 div.sk-dashed-wrapped {border: 1px dashed gray;margin: 0 0.4em 0.5em 0.4em;box-sizing: border-box;padding-bottom: 0.4em;background-color: white;}#sk-container-id-3 div.sk-label label {font-family: monospace;font-weight: bold;display: inline-block;line-height: 1.2em;}#sk-container-id-3 div.sk-label-container {text-align: center;}#sk-container-id-3 div.sk-container {/* jupyter's `normalize.less` sets `[hidden] { display: none; }` but bootstrap.min.css set `[hidden] { display: none !important; }` so we also need the `!important` here to be able to override the default hidden behavior on the sphinx rendered scikit-learn.org. See: https://github.com/scikit-learn/scikit-learn/issues/21755 */display: inline-block !important;position: relative;}#sk-container-id-3 div.sk-text-repr-fallback {display: none;}</style><div id=\"sk-container-id-3\" class=\"sk-top-container\"><div class=\"sk-text-repr-fallback\"><pre>RandomForestClassifier()</pre><b>In a Jupyter environment, please rerun this cell to show the HTML representation or trust the notebook. <br />On GitHub, the HTML representation is unable to render, please try loading this page with nbviewer.org.</b></div><div class=\"sk-container\" hidden><div class=\"sk-item\"><div class=\"sk-estimator sk-toggleable\"><input class=\"sk-toggleable__control sk-hidden--visually\" id=\"sk-estimator-id-3\" type=\"checkbox\" checked><label for=\"sk-estimator-id-3\" class=\"sk-toggleable__label sk-toggleable__label-arrow\">RandomForestClassifier</label><div class=\"sk-toggleable__content\"><pre>RandomForestClassifier()</pre></div></div></div></div></div>"
      ],
      "text/plain": [
       "RandomForestClassifier()"
      ]
     },
     "execution_count": 98,
     "metadata": {},
     "output_type": "execute_result"
    }
   ],
   "source": [
    "from sklearn.ensemble import RandomForestClassifier\n",
    "\n",
    "\n",
    "model_rf = RandomForestClassifier()\n",
    "model_rf.fit(X_train, y_train)"
   ]
  },
  {
   "cell_type": "code",
   "execution_count": 99,
   "metadata": {},
   "outputs": [
    {
     "name": "stdout",
     "output_type": "stream",
     "text": [
      "Training Accuracy : 0.9981740064446831\n",
      "Testing Accuracy : 0.7920962199312714\n"
     ]
    },
    {
     "data": {
      "image/png": "[encoded data removed]",
      "text/plain": [
       "<Figure size 640x480 with 2 Axes>"
      ]
     },
     "metadata": {},
     "output_type": "display_data"
    }
   ],
   "source": [
    "from sklearn.metrics import confusion_matrix, ConfusionMatrixDisplay\n",
    "import matplotlib.pyplot as plt\n",
    "print(\"Training Accuracy :\", model_rf.score(X_train, y_train))\n",
    "print(\"Testing Accuracy :\", model_rf.score(X_test, y_test))\n",
    "y_preds = model_rf.predict(X_test)\n",
    "cm = confusion_matrix(y_test, y_preds)\n",
    "cm_display = ConfusionMatrixDisplay(confusion_matrix=cm,display_labels=model_rf.classes_)\n",
    "cm_display.plot()\n",
    "plt.show()"
   ]
  },
  {
   "cell_type": "markdown",
   "metadata": {},
   "source": [
    "## Simple Neural Network"
   ]
  },
  {
   "cell_type": "code",
   "execution_count": 104,
   "metadata": {},
   "outputs": [],
   "source": [
    "# Neural Network architecture\n",
    "\n",
    "snn_model = Sequential()\n",
    "embedding_layer = Embedding(vocab_length, embedding_dim, weights=[embedding_matrix], input_length=maxlen, trainable=False)\n",
    "\n",
    "snn_model.add(embedding_layer)\n",
    "\n",
    "snn_model.add(Flatten())\n",
    "snn_model.add(Dense(1, activation='sigmoid'))"
   ]
  },
  {
   "cell_type": "code",
   "execution_count": 105,
   "metadata": {},
   "outputs": [
    {
     "data": {
      "text/html": [
       "<pre style=\"white-space:pre;overflow-x:auto;line-height:normal;font-family:Menlo,'DejaVu Sans Mono',consolas,'Courier New',monospace\"><span style=\"font-weight: bold\">Model: \"sequential_18\"</span>\n",
       "</pre>\n"
      ],
      "text/plain": [
       "\u001b[1mModel: \"sequential_18\"\u001b[0m\n"
      ]
     },
     "metadata": {},
     "output_type": "display_data"
    },
    {
     "data": {
      "text/html": [
       "<pre style=\"white-space:pre;overflow-x:auto;line-height:normal;font-family:Menlo,'DejaVu Sans Mono',consolas,'Courier New',monospace\">┏━━━━━━━━━━━━━━━━━━━━━━━━━━━━━━━━━┳━━━━━━━━━━━━━━━━━━━━━━━━┳━━━━━━━━━━━━━━━┓\n",
       "┃<span style=\"font-weight: bold\"> Layer (type)                    </span>┃<span style=\"font-weight: bold\"> Output Shape           </span>┃<span style=\"font-weight: bold\">       Param # </span>┃\n",
       "┡━━━━━━━━━━━━━━━━━━━━━━━━━━━━━━━━━╇━━━━━━━━━━━━━━━━━━━━━━━━╇━━━━━━━━━━━━━━━┩\n",
       "│ embedding_18 (<span style=\"color: #0087ff; text-decoration-color: #0087ff\">Embedding</span>)        │ ?                      │       <span style=\"color: #00af00; text-decoration-color: #00af00\">516,900</span> │\n",
       "├─────────────────────────────────┼────────────────────────┼───────────────┤\n",
       "│ flatten_3 (<span style=\"color: #0087ff; text-decoration-color: #0087ff\">Flatten</span>)             │ ?                      │   <span style=\"color: #00af00; text-decoration-color: #00af00\">0</span> (unbuilt) │\n",
       "├─────────────────────────────────┼────────────────────────┼───────────────┤\n",
       "│ dense_16 (<span style=\"color: #0087ff; text-decoration-color: #0087ff\">Dense</span>)                │ ?                      │   <span style=\"color: #00af00; text-decoration-color: #00af00\">0</span> (unbuilt) │\n",
       "└─────────────────────────────────┴────────────────────────┴───────────────┘\n",
       "</pre>\n"
      ],
      "text/plain": [
       "┏━━━━━━━━━━━━━━━━━━━━━━━━━━━━━━━━━┳━━━━━━━━━━━━━━━━━━━━━━━━┳━━━━━━━━━━━━━━━┓\n",
       "┃\u001b[1m \u001b[0m\u001b[1mLayer (type)                   \u001b[0m\u001b[1m \u001b[0m┃\u001b[1m \u001b[0m\u001b[1mOutput Shape          \u001b[0m\u001b[1m \u001b[0m┃\u001b[1m \u001b[0m\u001b[1m      Param #\u001b[0m\u001b[1m \u001b[0m┃\n",
       "┡━━━━━━━━━━━━━━━━━━━━━━━━━━━━━━━━━╇━━━━━━━━━━━━━━━━━━━━━━━━╇━━━━━━━━━━━━━━━┩\n",
       "│ embedding_18 (\u001b[38;5;33mEmbedding\u001b[0m)        │ ?                      │       \u001b[38;5;34m516,900\u001b[0m │\n",
       "├─────────────────────────────────┼────────────────────────┼───────────────┤\n",
       "│ flatten_3 (\u001b[38;5;33mFlatten\u001b[0m)             │ ?                      │   \u001b[38;5;34m0\u001b[0m (unbuilt) │\n",
       "├─────────────────────────────────┼────────────────────────┼───────────────┤\n",
       "│ dense_16 (\u001b[38;5;33mDense\u001b[0m)                │ ?                      │   \u001b[38;5;34m0\u001b[0m (unbuilt) │\n",
       "└─────────────────────────────────┴────────────────────────┴───────────────┘\n"
      ]
     },
     "metadata": {},
     "output_type": "display_data"
    },
    {
     "data": {
      "text/html": [
       "<pre style=\"white-space:pre;overflow-x:auto;line-height:normal;font-family:Menlo,'DejaVu Sans Mono',consolas,'Courier New',monospace\"><span style=\"font-weight: bold\"> Total params: </span><span style=\"color: #00af00; text-decoration-color: #00af00\">516,900</span> (1.97 MB)\n",
       "</pre>\n"
      ],
      "text/plain": [
       "\u001b[1m Total params: \u001b[0m\u001b[38;5;34m516,900\u001b[0m (1.97 MB)\n"
      ]
     },
     "metadata": {},
     "output_type": "display_data"
    },
    {
     "data": {
      "text/html": [
       "<pre style=\"white-space:pre;overflow-x:auto;line-height:normal;font-family:Menlo,'DejaVu Sans Mono',consolas,'Courier New',monospace\"><span style=\"font-weight: bold\"> Trainable params: </span><span style=\"color: #00af00; text-decoration-color: #00af00\">0</span> (0.00 B)\n",
       "</pre>\n"
      ],
      "text/plain": [
       "\u001b[1m Trainable params: \u001b[0m\u001b[38;5;34m0\u001b[0m (0.00 B)\n"
      ]
     },
     "metadata": {},
     "output_type": "display_data"
    },
    {
     "data": {
      "text/html": [
       "<pre style=\"white-space:pre;overflow-x:auto;line-height:normal;font-family:Menlo,'DejaVu Sans Mono',consolas,'Courier New',monospace\"><span style=\"font-weight: bold\"> Non-trainable params: </span><span style=\"color: #00af00; text-decoration-color: #00af00\">516,900</span> (1.97 MB)\n",
       "</pre>\n"
      ],
      "text/plain": [
       "\u001b[1m Non-trainable params: \u001b[0m\u001b[38;5;34m516,900\u001b[0m (1.97 MB)\n"
      ]
     },
     "metadata": {},
     "output_type": "display_data"
    },
    {
     "name": "stdout",
     "output_type": "stream",
     "text": [
      "None\n"
     ]
    }
   ],
   "source": [
    "# Model compiling\n",
    "\n",
    "snn_model.compile(optimizer='adam', loss='binary_crossentropy', metrics=['acc'])\n",
    "\n",
    "print(snn_model.summary())"
   ]
  },
  {
   "cell_type": "code",
   "execution_count": 106,
   "metadata": {},
   "outputs": [
    {
     "name": "stdout",
     "output_type": "stream",
     "text": [
      "Epoch 1/6\n",
      "\u001b[1m59/59\u001b[0m \u001b[32m━━━━━━━━━━━━━━━━━━━━\u001b[0m\u001b[37m\u001b[0m \u001b[1m2s\u001b[0m 6ms/step - acc: 0.6678 - loss: 0.6133 - val_acc: 0.8099 - val_loss: 0.4778\n",
      "Epoch 2/6\n",
      "\u001b[1m59/59\u001b[0m \u001b[32m━━━━━━━━━━━━━━━━━━━━\u001b[0m\u001b[37m\u001b[0m \u001b[1m0s\u001b[0m 3ms/step - acc: 0.8253 - loss: 0.4533 - val_acc: 0.8319 - val_loss: 0.4207\n",
      "Epoch 3/6\n",
      "\u001b[1m59/59\u001b[0m \u001b[32m━━━━━━━━━━━━━━━━━━━━\u001b[0m\u001b[37m\u001b[0m \u001b[1m0s\u001b[0m 3ms/step - acc: 0.8550 - loss: 0.3941 - val_acc: 0.8523 - val_loss: 0.3853\n",
      "Epoch 4/6\n",
      "\u001b[1m59/59\u001b[0m \u001b[32m━━━━━━━━━━━━━━━━━━━━\u001b[0m\u001b[37m\u001b[0m \u001b[1m0s\u001b[0m 3ms/step - acc: 0.8646 - loss: 0.3617 - val_acc: 0.8614 - val_loss: 0.3713\n",
      "Epoch 5/6\n",
      "\u001b[1m59/59\u001b[0m \u001b[32m━━━━━━━━━━━━━━━━━━━━\u001b[0m\u001b[37m\u001b[0m \u001b[1m0s\u001b[0m 4ms/step - acc: 0.8765 - loss: 0.3390 - val_acc: 0.8614 - val_loss: 0.3611\n",
      "Epoch 6/6\n",
      "\u001b[1m59/59\u001b[0m \u001b[32m━━━━━━━━━━━━━━━━━━━━\u001b[0m\u001b[37m\u001b[0m \u001b[1m0s\u001b[0m 3ms/step - acc: 0.8788 - loss: 0.3250 - val_acc: 0.8647 - val_loss: 0.3526\n"
     ]
    }
   ],
   "source": [
    "# Model training\n",
    "\n",
    "snn_model_history = snn_model.fit(X_train, y_train, batch_size=128, epochs=6, validation_split=0.2)"
   ]
  },
  {
   "cell_type": "code",
   "execution_count": 107,
   "metadata": {},
   "outputs": [
    {
     "name": "stdout",
     "output_type": "stream",
     "text": [
      "\u001b[1m73/73\u001b[0m \u001b[32m━━━━━━━━━━━━━━━━━━━━\u001b[0m\u001b[37m\u001b[0m \u001b[1m0s\u001b[0m 1ms/step - acc: 0.8369 - loss: 0.3836\n"
     ]
    }
   ],
   "source": [
    "# Predictions on the Test Set\n",
    "\n",
    "score = snn_model.evaluate(X_test, y_test)"
   ]
  },
  {
   "cell_type": "code",
   "execution_count": 108,
   "metadata": {},
   "outputs": [
    {
     "name": "stdout",
     "output_type": "stream",
     "text": [
      "Test Score: 0.3744269609451294\n",
      "Test Accuracy: 0.8513745665550232\n"
     ]
    }
   ],
   "source": [
    "# Model Performance\n",
    "\n",
    "print(\"Test Score:\", score[0])\n",
    "print(\"Test Accuracy:\", score[1])"
   ]
  },
  {
   "cell_type": "code",
   "execution_count": 109,
   "metadata": {},
   "outputs": [
    {
     "data": {
      "image/png": "[encoded data removed]",
      "text/plain": [
       "<Figure size 640x480 with 1 Axes>"
      ]
     },
     "metadata": {},
     "output_type": "display_data"
    },
    {
     "data": {
      "image/png": "[encoded data removed]",
      "text/plain": [
       "<Figure size 640x480 with 1 Axes>"
      ]
     },
     "metadata": {},
     "output_type": "display_data"
    }
   ],
   "source": [
    "# Model Performance Charts\n",
    "\n",
    "plt.plot(snn_model_history.history['acc'])\n",
    "plt.plot(snn_model_history.history['val_acc'])\n",
    "\n",
    "plt.title('model accuracy')\n",
    "plt.ylabel('accuracy')\n",
    "plt.xlabel('epoch')\n",
    "plt.legend(['train','test'], loc='upper left')\n",
    "plt.show()\n",
    "\n",
    "plt.plot(snn_model_history.history['loss'])\n",
    "plt.plot(snn_model_history.history['val_loss'])\n",
    "\n",
    "plt.title('model loss')\n",
    "plt.ylabel('loss')\n",
    "plt.xlabel('epoch')\n",
    "plt.legend(['train','test'], loc='upper left')\n",
    "plt.show()"
   ]
  },
  {
   "cell_type": "markdown",
   "metadata": {},
   "source": [
    "## Convolutional Neural Network"
   ]
  },
  {
   "cell_type": "code",
   "execution_count": 110,
   "metadata": {},
   "outputs": [],
   "source": [
    "# Neural Network architecture\n",
    "\n",
    "cnn_model = Sequential()\n",
    "\n",
    "embedding_layer = Embedding(vocab_length, embedding_dim, weights=[embedding_matrix], input_length=maxlen, trainable=False)\n",
    "cnn_model.add(embedding_layer)\n",
    "\n",
    "cnn_model.add(Conv1D(128, 5, activation='relu'))\n",
    "cnn_model.add(GlobalMaxPooling1D())\n",
    "cnn_model.add(Dense(1, activation='sigmoid'))"
   ]
  },
  {
   "cell_type": "code",
   "execution_count": 111,
   "metadata": {},
   "outputs": [
    {
     "data": {
      "text/html": [
       "<pre style=\"white-space:pre;overflow-x:auto;line-height:normal;font-family:Menlo,'DejaVu Sans Mono',consolas,'Courier New',monospace\"><span style=\"font-weight: bold\">Model: \"sequential_19\"</span>\n",
       "</pre>\n"
      ],
      "text/plain": [
       "\u001b[1mModel: \"sequential_19\"\u001b[0m\n"
      ]
     },
     "metadata": {},
     "output_type": "display_data"
    },
    {
     "data": {
      "text/html": [
       "<pre style=\"white-space:pre;overflow-x:auto;line-height:normal;font-family:Menlo,'DejaVu Sans Mono',consolas,'Courier New',monospace\">┏━━━━━━━━━━━━━━━━━━━━━━━━━━━━━━━━━┳━━━━━━━━━━━━━━━━━━━━━━━━┳━━━━━━━━━━━━━━━┓\n",
       "┃<span style=\"font-weight: bold\"> Layer (type)                    </span>┃<span style=\"font-weight: bold\"> Output Shape           </span>┃<span style=\"font-weight: bold\">       Param # </span>┃\n",
       "┡━━━━━━━━━━━━━━━━━━━━━━━━━━━━━━━━━╇━━━━━━━━━━━━━━━━━━━━━━━━╇━━━━━━━━━━━━━━━┩\n",
       "│ embedding_19 (<span style=\"color: #0087ff; text-decoration-color: #0087ff\">Embedding</span>)        │ ?                      │       <span style=\"color: #00af00; text-decoration-color: #00af00\">516,900</span> │\n",
       "├─────────────────────────────────┼────────────────────────┼───────────────┤\n",
       "│ conv1d_6 (<span style=\"color: #0087ff; text-decoration-color: #0087ff\">Conv1D</span>)               │ ?                      │   <span style=\"color: #00af00; text-decoration-color: #00af00\">0</span> (unbuilt) │\n",
       "├─────────────────────────────────┼────────────────────────┼───────────────┤\n",
       "│ global_max_pooling1d_3          │ ?                      │   <span style=\"color: #00af00; text-decoration-color: #00af00\">0</span> (unbuilt) │\n",
       "│ (<span style=\"color: #0087ff; text-decoration-color: #0087ff\">GlobalMaxPooling1D</span>)            │                        │               │\n",
       "├─────────────────────────────────┼────────────────────────┼───────────────┤\n",
       "│ dense_17 (<span style=\"color: #0087ff; text-decoration-color: #0087ff\">Dense</span>)                │ ?                      │   <span style=\"color: #00af00; text-decoration-color: #00af00\">0</span> (unbuilt) │\n",
       "└─────────────────────────────────┴────────────────────────┴───────────────┘\n",
       "</pre>\n"
      ],
      "text/plain": [
       "┏━━━━━━━━━━━━━━━━━━━━━━━━━━━━━━━━━┳━━━━━━━━━━━━━━━━━━━━━━━━┳━━━━━━━━━━━━━━━┓\n",
       "┃\u001b[1m \u001b[0m\u001b[1mLayer (type)                   \u001b[0m\u001b[1m \u001b[0m┃\u001b[1m \u001b[0m\u001b[1mOutput Shape          \u001b[0m\u001b[1m \u001b[0m┃\u001b[1m \u001b[0m\u001b[1m      Param #\u001b[0m\u001b[1m \u001b[0m┃\n",
       "┡━━━━━━━━━━━━━━━━━━━━━━━━━━━━━━━━━╇━━━━━━━━━━━━━━━━━━━━━━━━╇━━━━━━━━━━━━━━━┩\n",
       "│ embedding_19 (\u001b[38;5;33mEmbedding\u001b[0m)        │ ?                      │       \u001b[38;5;34m516,900\u001b[0m │\n",
       "├─────────────────────────────────┼────────────────────────┼───────────────┤\n",
       "│ conv1d_6 (\u001b[38;5;33mConv1D\u001b[0m)               │ ?                      │   \u001b[38;5;34m0\u001b[0m (unbuilt) │\n",
       "├─────────────────────────────────┼────────────────────────┼───────────────┤\n",
       "│ global_max_pooling1d_3          │ ?                      │   \u001b[38;5;34m0\u001b[0m (unbuilt) │\n",
       "│ (\u001b[38;5;33mGlobalMaxPooling1D\u001b[0m)            │                        │               │\n",
       "├─────────────────────────────────┼────────────────────────┼───────────────┤\n",
       "│ dense_17 (\u001b[38;5;33mDense\u001b[0m)                │ ?                      │   \u001b[38;5;34m0\u001b[0m (unbuilt) │\n",
       "└─────────────────────────────────┴────────────────────────┴───────────────┘\n"
      ]
     },
     "metadata": {},
     "output_type": "display_data"
    },
    {
     "data": {
      "text/html": [
       "<pre style=\"white-space:pre;overflow-x:auto;line-height:normal;font-family:Menlo,'DejaVu Sans Mono',consolas,'Courier New',monospace\"><span style=\"font-weight: bold\"> Total params: </span><span style=\"color: #00af00; text-decoration-color: #00af00\">516,900</span> (1.97 MB)\n",
       "</pre>\n"
      ],
      "text/plain": [
       "\u001b[1m Total params: \u001b[0m\u001b[38;5;34m516,900\u001b[0m (1.97 MB)\n"
      ]
     },
     "metadata": {},
     "output_type": "display_data"
    },
    {
     "data": {
      "text/html": [
       "<pre style=\"white-space:pre;overflow-x:auto;line-height:normal;font-family:Menlo,'DejaVu Sans Mono',consolas,'Courier New',monospace\"><span style=\"font-weight: bold\"> Trainable params: </span><span style=\"color: #00af00; text-decoration-color: #00af00\">0</span> (0.00 B)\n",
       "</pre>\n"
      ],
      "text/plain": [
       "\u001b[1m Trainable params: \u001b[0m\u001b[38;5;34m0\u001b[0m (0.00 B)\n"
      ]
     },
     "metadata": {},
     "output_type": "display_data"
    },
    {
     "data": {
      "text/html": [
       "<pre style=\"white-space:pre;overflow-x:auto;line-height:normal;font-family:Menlo,'DejaVu Sans Mono',consolas,'Courier New',monospace\"><span style=\"font-weight: bold\"> Non-trainable params: </span><span style=\"color: #00af00; text-decoration-color: #00af00\">516,900</span> (1.97 MB)\n",
       "</pre>\n"
      ],
      "text/plain": [
       "\u001b[1m Non-trainable params: \u001b[0m\u001b[38;5;34m516,900\u001b[0m (1.97 MB)\n"
      ]
     },
     "metadata": {},
     "output_type": "display_data"
    },
    {
     "name": "stdout",
     "output_type": "stream",
     "text": [
      "None\n"
     ]
    }
   ],
   "source": [
    "# Model compiling\n",
    "\n",
    "cnn_model.compile(optimizer='adam', loss='binary_crossentropy', metrics=['acc'])\n",
    "print(cnn_model.summary())"
   ]
  },
  {
   "cell_type": "code",
   "execution_count": 112,
   "metadata": {},
   "outputs": [
    {
     "name": "stdout",
     "output_type": "stream",
     "text": [
      "Epoch 1/10\n",
      "\u001b[1m59/59\u001b[0m \u001b[32m━━━━━━━━━━━━━━━━━━━━\u001b[0m\u001b[37m\u001b[0m \u001b[1m3s\u001b[0m 27ms/step - acc: 0.7714 - loss: 0.4835 - val_acc: 0.8802 - val_loss: 0.3010\n",
      "Epoch 2/10\n",
      "\u001b[1m59/59\u001b[0m \u001b[32m━━━━━━━━━━━━━━━━━━━━\u001b[0m\u001b[37m\u001b[0m \u001b[1m1s\u001b[0m 23ms/step - acc: 0.9008 - loss: 0.2642 - val_acc: 0.8931 - val_loss: 0.2685\n",
      "Epoch 3/10\n",
      "\u001b[1m59/59\u001b[0m \u001b[32m━━━━━━━━━━━━━━━━━━━━\u001b[0m\u001b[37m\u001b[0m \u001b[1m2s\u001b[0m 27ms/step - acc: 0.9240 - loss: 0.2142 - val_acc: 0.8942 - val_loss: 0.2535\n",
      "Epoch 4/10\n",
      "\u001b[1m59/59\u001b[0m \u001b[32m━━━━━━━━━━━━━━━━━━━━\u001b[0m\u001b[37m\u001b[0m \u001b[1m1s\u001b[0m 23ms/step - acc: 0.9398 - loss: 0.1787 - val_acc: 0.8990 - val_loss: 0.2454\n",
      "Epoch 5/10\n",
      "\u001b[1m59/59\u001b[0m \u001b[32m━━━━━━━━━━━━━━━━━━━━\u001b[0m\u001b[37m\u001b[0m \u001b[1m1s\u001b[0m 25ms/step - acc: 0.9543 - loss: 0.1471 - val_acc: 0.9006 - val_loss: 0.2460\n",
      "Epoch 6/10\n",
      "\u001b[1m59/59\u001b[0m \u001b[32m━━━━━━━━━━━━━━━━━━━━\u001b[0m\u001b[37m\u001b[0m \u001b[1m2s\u001b[0m 27ms/step - acc: 0.9580 - loss: 0.1329 - val_acc: 0.9055 - val_loss: 0.2478\n",
      "Epoch 7/10\n",
      "\u001b[1m59/59\u001b[0m \u001b[32m━━━━━━━━━━━━━━━━━━━━\u001b[0m\u001b[37m\u001b[0m \u001b[1m1s\u001b[0m 24ms/step - acc: 0.9677 - loss: 0.1178 - val_acc: 0.9044 - val_loss: 0.2444\n",
      "Epoch 8/10\n",
      "\u001b[1m59/59\u001b[0m \u001b[32m━━━━━━━━━━━━━━━━━━━━\u001b[0m\u001b[37m\u001b[0m \u001b[1m1s\u001b[0m 23ms/step - acc: 0.9770 - loss: 0.0919 - val_acc: 0.9023 - val_loss: 0.2436\n",
      "Epoch 9/10\n",
      "\u001b[1m59/59\u001b[0m \u001b[32m━━━━━━━━━━━━━━━━━━━━\u001b[0m\u001b[37m\u001b[0m \u001b[1m1s\u001b[0m 23ms/step - acc: 0.9820 - loss: 0.0816 - val_acc: 0.8969 - val_loss: 0.2485\n",
      "Epoch 10/10\n",
      "\u001b[1m59/59\u001b[0m \u001b[32m━━━━━━━━━━━━━━━━━━━━\u001b[0m\u001b[37m\u001b[0m \u001b[1m2s\u001b[0m 27ms/step - acc: 0.9857 - loss: 0.0685 - val_acc: 0.9055 - val_loss: 0.2475\n"
     ]
    }
   ],
   "source": [
    "# Model training\n",
    "\n",
    "cnn_model_history = cnn_model.fit(X_train, y_train, batch_size=128, epochs=10, validation_split=0.2)"
   ]
  },
  {
   "cell_type": "code",
   "execution_count": 113,
   "metadata": {},
   "outputs": [
    {
     "name": "stdout",
     "output_type": "stream",
     "text": [
      "\u001b[1m73/73\u001b[0m \u001b[32m━━━━━━━━━━━━━━━━━━━━\u001b[0m\u001b[37m\u001b[0m \u001b[1m0s\u001b[0m 4ms/step - acc: 0.9017 - loss: 0.2664\n"
     ]
    }
   ],
   "source": [
    "# Predictions on the Test Set\n",
    "\n",
    "score = cnn_model.evaluate(X_test, y_test)"
   ]
  },
  {
   "cell_type": "code",
   "execution_count": 114,
   "metadata": {},
   "outputs": [
    {
     "name": "stdout",
     "output_type": "stream",
     "text": [
      "Test Score: 0.26305797696113586\n",
      "Test Accuracy: 0.9037800431251526\n"
     ]
    }
   ],
   "source": [
    "# Model Performance\n",
    "\n",
    "print(\"Test Score:\", score[0])\n",
    "print(\"Test Accuracy:\", score[1])"
   ]
  },
  {
   "cell_type": "code",
   "execution_count": 115,
   "metadata": {},
   "outputs": [
    {
     "data": {
      "image/png": "[encoded data removed]",
      "text/plain": [
       "<Figure size 640x480 with 1 Axes>"
      ]
     },
     "metadata": {},
     "output_type": "display_data"
    },
    {
     "data": {
      "image/png": "[encoded data removed]",
      "text/plain": [
       "<Figure size 640x480 with 1 Axes>"
      ]
     },
     "metadata": {},
     "output_type": "display_data"
    }
   ],
   "source": [
    "# Model Performance Charts\n",
    "\n",
    "import matplotlib.pyplot as plt\n",
    "\n",
    "plt.plot(cnn_model_history.history['acc'])\n",
    "plt.plot(cnn_model_history.history['val_acc'])\n",
    "\n",
    "plt.title('model accuracy')\n",
    "plt.ylabel('accuracy')\n",
    "plt.xlabel('epoch')\n",
    "plt.legend(['train','test'], loc = 'upper left')\n",
    "plt.show()\n",
    "\n",
    "plt.plot(cnn_model_history.history['loss'])\n",
    "plt.plot(cnn_model_history.history['val_loss'])\n",
    "\n",
    "plt.title('model loss')\n",
    "plt.ylabel('loss')\n",
    "plt.xlabel('epoch')\n",
    "plt.legend(['train','test'], loc = 'upper left')\n",
    "plt.show()"
   ]
  },
  {
   "cell_type": "markdown",
   "metadata": {},
   "source": [
    "## RNN Neural Network (LSTM)"
   ]
  },
  {
   "cell_type": "code",
   "execution_count": 116,
   "metadata": {},
   "outputs": [
    {
     "name": "stdout",
     "output_type": "stream",
     "text": [
      "Epoch 1/10\n",
      "\u001b[1m59/59\u001b[0m \u001b[32m━━━━━━━━━━━━━━━━━━━━\u001b[0m\u001b[37m\u001b[0m \u001b[1m43s\u001b[0m 581ms/step - accuracy: 0.7703 - loss: 0.4912 - val_accuracy: 0.8926 - val_loss: 0.2836\n",
      "Epoch 2/10\n",
      "\u001b[1m59/59\u001b[0m \u001b[32m━━━━━━━━━━━━━━━━━━━━\u001b[0m\u001b[37m\u001b[0m \u001b[1m34s\u001b[0m 582ms/step - accuracy: 0.8825 - loss: 0.3023 - val_accuracy: 0.9012 - val_loss: 0.2640\n",
      "Epoch 3/10\n",
      "\u001b[1m59/59\u001b[0m \u001b[32m━━━━━━━━━━━━━━━━━━━━\u001b[0m\u001b[37m\u001b[0m \u001b[1m34s\u001b[0m 569ms/step - accuracy: 0.8880 - loss: 0.2878 - val_accuracy: 0.9001 - val_loss: 0.2560\n",
      "Epoch 4/10\n",
      "\u001b[1m59/59\u001b[0m \u001b[32m━━━━━━━━━━━━━━━━━━━━\u001b[0m\u001b[37m\u001b[0m \u001b[1m37s\u001b[0m 623ms/step - accuracy: 0.8955 - loss: 0.2644 - val_accuracy: 0.8921 - val_loss: 0.2744\n",
      "Epoch 5/10\n",
      "\u001b[1m59/59\u001b[0m \u001b[32m━━━━━━━━━━━━━━━━━━━━\u001b[0m\u001b[37m\u001b[0m \u001b[1m35s\u001b[0m 601ms/step - accuracy: 0.8907 - loss: 0.2697 - val_accuracy: 0.9017 - val_loss: 0.2528\n",
      "Epoch 6/10\n",
      "\u001b[1m59/59\u001b[0m \u001b[32m━━━━━━━━━━━━━━━━━━━━\u001b[0m\u001b[37m\u001b[0m \u001b[1m37s\u001b[0m 623ms/step - accuracy: 0.9004 - loss: 0.2452 - val_accuracy: 0.9082 - val_loss: 0.2377\n",
      "Epoch 7/10\n",
      "\u001b[1m59/59\u001b[0m \u001b[32m━━━━━━━━━━━━━━━━━━━━\u001b[0m\u001b[37m\u001b[0m \u001b[1m35s\u001b[0m 596ms/step - accuracy: 0.9045 - loss: 0.2410 - val_accuracy: 0.9039 - val_loss: 0.2477\n",
      "Epoch 8/10\n",
      "\u001b[1m59/59\u001b[0m \u001b[32m━━━━━━━━━━━━━━━━━━━━\u001b[0m\u001b[37m\u001b[0m \u001b[1m35s\u001b[0m 591ms/step - accuracy: 0.9073 - loss: 0.2380 - val_accuracy: 0.9044 - val_loss: 0.2790\n",
      "Epoch 9/10\n",
      "\u001b[1m59/59\u001b[0m \u001b[32m━━━━━━━━━━━━━━━━━━━━\u001b[0m\u001b[37m\u001b[0m \u001b[1m39s\u001b[0m 655ms/step - accuracy: 0.9119 - loss: 0.2270 - val_accuracy: 0.9017 - val_loss: 0.2420\n",
      "\u001b[1m73/73\u001b[0m \u001b[32m━━━━━━━━━━━━━━━━━━━━\u001b[0m\u001b[37m\u001b[0m \u001b[1m5s\u001b[0m 71ms/step - accuracy: 0.8980 - loss: 0.2599\n",
      "Test Score: 0.252597838640213\n",
      "Test Accuracy: 0.9050687551498413\n"
     ]
    }
   ],
   "source": [
    "lstm_units = 128\n",
    "dropout = 0.2\n",
    "from tensorflow import keras\n",
    "model = Sequential()\n",
    "model.add(Embedding(vocab_length, 100, weights=[embedding_matrix], input_length=maxlen, trainable=False))\n",
    "model.add(Dropout(dropout))\n",
    "\n",
    "model.add(Bidirectional(LSTM(lstm_units, return_sequences=True)))\n",
    "model.add(Dropout(dropout))\n",
    "\n",
    "model.add(Bidirectional(LSTM(lstm_units)))\n",
    "model.add(Dropout(dropout))\n",
    "\n",
    "model.add(Dense(64, activation='relu'))\n",
    "model.add(Dense(1, activation='sigmoid'))\n",
    "\n",
    "# Compile model\n",
    "model.compile(loss='binary_crossentropy', optimizer='adam', metrics=['accuracy'])\n",
    "\n",
    "# Early stopping to prevent overfitting\n",
    "early_stopping = keras.callbacks.EarlyStopping(monitor='val_loss', patience=3, restore_best_weights=True)\n",
    "\n",
    "# Train model\n",
    "rnn_model_history = model.fit(X_train, y_train, batch_size=128, epochs=10, validation_split=0.2, callbacks=[early_stopping])\n",
    "\n",
    "# Evaluate model\n",
    "score = model.evaluate(X_test, y_test)\n",
    "print(\"Test Score:\", score[0])\n",
    "print(\"Test Accuracy:\", score[1])"
   ]
  },
  {
   "cell_type": "code",
   "execution_count": 117,
   "metadata": {},
   "outputs": [
    {
     "name": "stdout",
     "output_type": "stream",
     "text": [
      "Epoch 1/10\n"
     ]
    },
    {
     "name": "stderr",
     "output_type": "stream",
     "text": [
      "d:\\anaconda\\Lib\\site-packages\\keras\\src\\layers\\core\\embedding.py:90: UserWarning: Argument `input_length` is deprecated. Just remove it.\n",
      "  warnings.warn(\n"
     ]
    },
    {
     "name": "stdout",
     "output_type": "stream",
     "text": [
      "\u001b[1m59/59\u001b[0m \u001b[32m━━━━━━━━━━━━━━━━━━━━\u001b[0m\u001b[37m\u001b[0m \u001b[1m51s\u001b[0m 684ms/step - accuracy: 0.7366 - loss: 0.5074 - val_accuracy: 0.8958 - val_loss: 0.2590\n",
      "Epoch 2/10\n",
      "\u001b[1m59/59\u001b[0m \u001b[32m━━━━━━━━━━━━━━━━━━━━\u001b[0m\u001b[37m\u001b[0m \u001b[1m39s\u001b[0m 662ms/step - accuracy: 0.8971 - loss: 0.2664 - val_accuracy: 0.9060 - val_loss: 0.2410\n",
      "Epoch 3/10\n",
      "\u001b[1m59/59\u001b[0m \u001b[32m━━━━━━━━━━━━━━━━━━━━\u001b[0m\u001b[37m\u001b[0m \u001b[1m42s\u001b[0m 720ms/step - accuracy: 0.9108 - loss: 0.2314 - val_accuracy: 0.9157 - val_loss: 0.2204\n",
      "Epoch 4/10\n",
      "\u001b[1m59/59\u001b[0m \u001b[32m━━━━━━━━━━━━━━━━━━━━\u001b[0m\u001b[37m\u001b[0m \u001b[1m42s\u001b[0m 719ms/step - accuracy: 0.9274 - loss: 0.1946 - val_accuracy: 0.9205 - val_loss: 0.2090\n",
      "Epoch 5/10\n",
      "\u001b[1m59/59\u001b[0m \u001b[32m━━━━━━━━━━━━━━━━━━━━\u001b[0m\u001b[37m\u001b[0m \u001b[1m43s\u001b[0m 724ms/step - accuracy: 0.9334 - loss: 0.1769 - val_accuracy: 0.9194 - val_loss: 0.2020\n",
      "Epoch 6/10\n",
      "\u001b[1m59/59\u001b[0m \u001b[32m━━━━━━━━━━━━━━━━━━━━\u001b[0m\u001b[37m\u001b[0m \u001b[1m42s\u001b[0m 714ms/step - accuracy: 0.9373 - loss: 0.1729 - val_accuracy: 0.9232 - val_loss: 0.1977\n",
      "Epoch 7/10\n",
      "\u001b[1m59/59\u001b[0m \u001b[32m━━━━━━━━━━━━━━━━━━━━\u001b[0m\u001b[37m\u001b[0m \u001b[1m43s\u001b[0m 729ms/step - accuracy: 0.9457 - loss: 0.1495 - val_accuracy: 0.9168 - val_loss: 0.2321\n",
      "Epoch 8/10\n",
      "\u001b[1m59/59\u001b[0m \u001b[32m━━━━━━━━━━━━━━━━━━━━\u001b[0m\u001b[37m\u001b[0m \u001b[1m43s\u001b[0m 730ms/step - accuracy: 0.9506 - loss: 0.1403 - val_accuracy: 0.9168 - val_loss: 0.2130\n",
      "Epoch 9/10\n",
      "\u001b[1m59/59\u001b[0m \u001b[32m━━━━━━━━━━━━━━━━━━━━\u001b[0m\u001b[37m\u001b[0m \u001b[1m43s\u001b[0m 737ms/step - accuracy: 0.9511 - loss: 0.1346 - val_accuracy: 0.9205 - val_loss: 0.2285\n",
      "\u001b[1m73/73\u001b[0m \u001b[32m━━━━━━━━━━━━━━━━━━━━\u001b[0m\u001b[37m\u001b[0m \u001b[1m6s\u001b[0m 81ms/step - accuracy: 0.9152 - loss: 0.2168\n",
      "Test Score: 0.21191291511058807\n",
      "Test Accuracy: 0.9201030731201172\n"
     ]
    }
   ],
   "source": [
    "\n",
    "model2 = Sequential()\n",
    "model2.add(Embedding(vocab_length, 100, weights=[embedding_matrix], input_length=maxlen, trainable=True))\n",
    "model2.add(Dropout(dropout))\n",
    "\n",
    "model2.add(Bidirectional(LSTM(lstm_units, return_sequences=True)))\n",
    "model2.add(Dropout(dropout))\n",
    "\n",
    "model2.add(Bidirectional(LSTM(lstm_units)))\n",
    "model2.add(Dropout(dropout))\n",
    "\n",
    "model2.add(Dense(64, activation='relu'))\n",
    "model2.add(Dense(1, activation='sigmoid'))\n",
    "\n",
    "# Compile model\n",
    "model2.compile(loss='binary_crossentropy', optimizer='adam', metrics=['accuracy'])\n",
    "\n",
    "# Early stopping to prevent overfitting\n",
    "early_stopping = keras.callbacks.EarlyStopping(monitor='val_loss', patience=3, restore_best_weights=True)\n",
    "\n",
    "# Train model\n",
    "rnn_model_history = model2.fit(X_train, y_train, batch_size=128, epochs=10, validation_split=0.2, callbacks=[early_stopping])\n",
    "\n",
    "# Evaluate model\n",
    "score = model2.evaluate(X_test, y_test)\n",
    "print(\"Test Score:\", score[0])\n",
    "print(\"Test Accuracy:\", score[1])"
   ]
  },
  {
   "cell_type": "markdown",
   "metadata": {},
   "source": [
    "## saving model"
   ]
  },
  {
   "cell_type": "code",
   "execution_count": 160,
   "metadata": {},
   "outputs": [],
   "source": [
    "import pickle\n",
    "model2.save('lstm_model.keras')\n",
    "\n",
    "with open('tokenizer.pickle', 'wb') as handle:\n",
    "    pickle.dump(word_tokenizer, handle, protocol=pickle.HIGHEST_PROTOCOL)\n"
   ]
  },
  {
   "cell_type": "code",
   "execution_count": 159,
   "metadata": {},
   "outputs": [
    {
     "name": "stdout",
     "output_type": "stream",
     "text": [
      "\u001b[1m73/73\u001b[0m \u001b[32m━━━━━━━━━━━━━━━━━━━━\u001b[0m\u001b[37m\u001b[0m \u001b[1m6s\u001b[0m 74ms/step\n"
     ]
    },
    {
     "data": {
      "image/png": "[encoded data removed]",
      "text/plain": [
       "<Figure size 640x480 with 2 Axes>"
      ]
     },
     "metadata": {},
     "output_type": "display_data"
    }
   ],
   "source": [
    "\n",
    "from sklearn.metrics import confusion_matrix, ConfusionMatrixDisplay\n",
    "import matplotlib.pyplot as plt\n",
    "\n",
    "y_preds = model2.predict(X_test)\n",
    "for i in range(len(y_preds)):\n",
    "    if y_preds[i] > 0.5:\n",
    "        y_preds[i] = 1\n",
    "    else:\n",
    "         y_preds[i] = 0\n",
    "cm = confusion_matrix(y_test, y_preds)\n",
    "cm_display = ConfusionMatrixDisplay(confusion_matrix=cm,display_labels=model_rf.classes_)\n",
    "cm_display.plot()\n",
    "plt.show()"
   ]
  },
  {
   "cell_type": "code",
   "execution_count": 154,
   "metadata": {},
   "outputs": [],
   "source": [
    "from textblob import TextBlob\n",
    "# Function to correct spelling errors using TextBlob\n",
    "def correct_spelling(text):\n",
    "    blob = TextBlob(text)\n",
    "    corrected_text = str(blob.correct())\n",
    "    return corrected_text\n",
    "\n",
    "def predict_sentiment(review):\n",
    "    corrected = correct_spelling(review)\n",
    "    review = preprocess_text(corrected)\n",
    "    tokenized = word_tokenizer.texts_to_sequences([review])\n",
    "    paddded = pad_sequences(tokenized, padding='post', maxlen=100)\n",
    "    score = model2.predict(paddded)\n",
    "    return \"positive\" if score > 0.5 else \"negative\""
   ]
  },
  {
   "cell_type": "code",
   "execution_count": 156,
   "metadata": {},
   "outputs": [
    {
     "name": "stdout",
     "output_type": "stream",
     "text": [
      "product not good\n",
      "\u001b[1m1/1\u001b[0m \u001b[32m━━━━━━━━━━━━━━━━━━━━\u001b[0m\u001b[37m\u001b[0m \u001b[1m0s\u001b[0m 32ms/step\n"
     ]
    },
    {
     "data": {
      "text/plain": [
       "'negative'"
      ]
     },
     "execution_count": 156,
     "metadata": {},
     "output_type": "execute_result"
    }
   ],
   "source": [
    "my_review = \"the product was not very gooddd\"\n",
    "predict_sentiment(my_review)"
   ]
  },
  {
   "cell_type": "code",
   "execution_count": 33,
   "metadata": {},
   "outputs": [
    {
     "data": {
      "text/plain": [
       "['trouser stuff good shirt poor quality',\n",
       " 'not leather jacket magazine quality not per description ',\n",
       " 'fragrance short shelf life months started develop unpleasant rapid smell disappointing invest fragrance go bad quickly expected better quality longevity ',\n",
       " 'satisfied product good quality product',\n",
       " 'look ordered received ',\n",
       " 'good delivery time pages book not good quality fulfill purpose ',\n",
       " 'ordered two size instead got one smaller size material used good belt fit well hence giving star rating ',\n",
       " 'poor installation',\n",
       " 'purchased football two days aback item seems detective press ball passes air solve although no return solve forwarded query instant chat even call tender phone number mentioned receipt nobody responded finally going return product ',\n",
       " 'first box not come plastic pencil tip yellowish bent side connect pad not work can believe bought face apple product ',\n",
       " 'received damaged would not connect charge complete rip apple would not replace aerial number would not come actual apple system ',\n",
       " 'think used',\n",
       " 'got fridge amazed even hours installing fridge not working not even cold inside dark delivered damaged product would advise everyone not get electronics webster cut never know product works not not know haste getting replaced customer service dark not helpful never attend calls responds days good luck ',\n",
       " 'good not glowing dark shown ',\n",
       " 'way ordered received still satisfied sound quality not quite good still according price range decent',\n",
       " 'low quality ',\n",
       " 'good product not cotton soft',\n",
       " 'took amount never delivered product seller face dishonest please avoid seller completely requested refund already',\n",
       " 'ordered one problems sticking rest good keep good work thank ',\n",
       " 'not proper size mentioned',\n",
       " 'low battery time one earned not working properly voice also poor quality ',\n",
       " 'bakwasss left piece not work voice quality poor waiting money would suggest friends please not try',\n",
       " 'bad quality excepted ',\n",
       " 'beautiful not comfortable cut wear long',\n",
       " 'bad quality much expensive type quality st experience v v bad ',\n",
       " 'good not much good one bag zip',\n",
       " 'bad experience order large size receive large extra large medium size need replaced ',\n",
       " 'box received not sealed like everything seal apple pen also comes curtis not wrap not sealed open box literally papers feel second took not like amazon disappointed ',\n",
       " 'per amount product ',\n",
       " 'nice product nice sound qualify timing little less',\n",
       " 'value money works fine good quality adjustable ',\n",
       " 'horrible experience making fool not ever buy broken no return policy disappointed dark ply stop making fools people',\n",
       " 'unfortunately newer model pencil compatible curtis not pads not mine funny can buy airport pair literally anything though go haste returning item donna buy pen thing actual reasonable price ',\n",
       " 'quality stuff really poor not know could bear st wash ',\n",
       " 'good quality shoes little disappointment rider delivery late little bit overall product awesome recommended seller',\n",
       " 'size not accurate not happy purchase',\n",
       " 'product totally disgusting not even stop little whole water leakage ',\n",
       " 'cap shampoo ordered different one shown picture received black opening cap instead pink though packing good',\n",
       " 'liked colours attractive smell neutral one order pump stuck cap not opening ',\n",
       " 'not good plastic bad smell not good quality not like ',\n",
       " 'face seller rude behaviour disappointed ',\n",
       " 'little bit expensive overall good',\n",
       " 'bad quality palate broken',\n",
       " 'poor quality stuff waste money ',\n",
       " 'packing good works fine well shampoo not fragrance ',\n",
       " 'disgusting second experience buying cycle dark bad experience time delivered wrong color cycle accessories incomplete wheel cups cycle missing without cycle useless waste rubles bad ',\n",
       " 'item not shown double sided',\n",
       " 'nothing good ',\n",
       " 'good late delivery',\n",
       " 'shoes great size slightly big',\n",
       " 'received item not work several people look took necessary steps work not work ',\n",
       " 'soft material recommended one size big',\n",
       " 'timely delivered quality product poor one day use became like land oaks fabric worn',\n",
       " 'nice accessory pad pro honestly can without personally not going use much thought would not see use not artist something honest pen galaxy note amazing apple pencil honest opinion get use tireless magnetic keyboard came pad pro case pencil sending mine back getting refund',\n",
       " 'pathetic overpriced product not go ram actual mb ram hacked andros software extremely baggy absolute waste money',\n",
       " 'bad thing no lights showing low light',\n",
       " 'received parcel day in upset stars small size glow mineutraltes disappointed ',\n",
       " 'better buy is handsfree quality extra price',\n",
       " 'order delayed one week anyone going order delivery definitely late wrote many times balance make continues follow late delivery issue ',\n",
       " 'works coolly glio',\n",
       " ' stopped working second day still good',\n",
       " 'please not buy product seller note non return able can not return remote buttons not working works please not buy seller not good bad product cable small white box light connection poor little force applied comes yellow color button not work well red blue poor product sad called dark many times not buy',\n",
       " 'bad quality ',\n",
       " 'plastic quality high otherwise good ',\n",
       " 'thanks dark quality thorax sa fro ta par tiny past the ti',\n",
       " 'not support coolly models words ',\n",
       " 'pen not work contracted apple assistance informed pen old defective would not connect pad pro nd generation even hours help apple sent pen back ',\n",
       " 'received bit late usual dark delivery good packing good product',\n",
       " 'like can write pad like pen not like can use write pad ',\n",
       " 'poor quality product waste money not serve purpose packing company claims many layers reality layer one plastic sheet inside no padded stuff even simple cotton extra cloth poor pathetic not buy ',\n",
       " 'spending expecting best arrived today requires attach pad pro charge came expensive fugue case attached pencil charging pen slide slightest movement magnet weak worse not work even relatively new pad pro not work phone pads returning ordering original pencil can charge via cable can protect pad axis not great cases many gimmicks apple products far many updated make things worse utf ',\n",
       " 'not working ply can give another',\n",
       " 'extremely useless product not anything waste money sad receive ',\n",
       " 'order delivered days dot see difference applying ',\n",
       " ' star brick cap hardened spill package',\n",
       " 'packing open customer never satisfied condition would believe unused not satisfied ',\n",
       " 'love product since dec th recently started looking charge not know pencil not good one ',\n",
       " 'received damaged scraped roller safe delivery',\n",
       " 'quality bad can not hold anything g strips get gripped ',\n",
       " 'am writing review axis not like suit buy disappointed one wash dress still much inch still one wash not buy waisted ',\n",
       " 'products quality good products not use full',\n",
       " 'recently purchased pad pro gen genetic status pen fell love pen quit inside weeks since loved pen feature decided go ahead spend get thought would much superior product disappointed apple pen shaped poorly not round pen not roll easily hands pen also heavy compared writing utensils genetic pen purchased apple pen not give ability close pages using wipe feature instead free finger thumb perform function instead apple pen performance wee bit better genetic status simple purposes difference negligible double tap sideboard charging features not worth swap comfort genetic status gave expected much apple could return apple pen purchase genetic status axis not would ',\n",
       " 'stuff concerned okay not ',\n",
       " 'due bad weather received box wet condition luckily fabric cover safe intact found wardrobe described issue faced fixing plastic not properly cropped inside thankful assembled completely ',\n",
       " 'belt ok not good pictures finishing cheap',\n",
       " 'wastage money',\n",
       " 'first really good colours point issue tape behind not stick table keeps falling hour half roll dead blue light meaning blue ones not work',\n",
       " 'not cleaning teeth said seller clean teeth product not no difference',\n",
       " 'size small toy',\n",
       " 'thanks dark team received order sound light system not working also plastic quality not good',\n",
       " 'sound little bit sharp',\n",
       " 'got received broken one going return ',\n",
       " 'average quality product ',\n",
       " 'product fine color different',\n",
       " 'freshness mark bit late night delivery ',\n",
       " 'different picture bad quality recommend no one can buy waste money',\n",
       " 'one perfect light blue colour not working ',\n",
       " 'box open pen looks used paid full price not sure would send something used not okay going return get apple store ',\n",
       " 'good yes nice button not glow',\n",
       " 'ordered sage oil send rosary oil professional ethical or second huge mistake totally un professional',\n",
       " 'shoes not perfect got size small finishing also not perfect damage one side returning shoes not satisfied product ',\n",
       " 'light nice total lights lights plugs issue ply replace plug',\n",
       " 'not good cooked great difficulty ',\n",
       " 'looking old one damage packing no cell nosepin inside no protective packing material used ',\n",
       " ' rd class inverted never buy axis not winter noise compression loud bought units brand using strongly disappointed',\n",
       " 'blue less specifically not work',\n",
       " 'quality ave compared price ordered another sweatshirt lower price dark select clot clot better terms quality ',\n",
       " 'pins pressed received package total waste money ',\n",
       " 'useless product no result ',\n",
       " 'not satisfied product',\n",
       " 'warranty card given last year warranty expired dec however purchased may refrigerator not cooling anything ',\n",
       " 'colour good small size look like toy compare price including delivery charges expensive not good ',\n",
       " 'expired products sent disappointed',\n",
       " 'waste money not even work charged three times yet still not work ',\n",
       " 'product good colourful lights bright colours accidentally broke ',\n",
       " 'disappointed last time ordered black good quality ',\n",
       " 'okay not highly recommended',\n",
       " 'little bit damage body sound quality quite fine price range delivered received time thanks seller',\n",
       " 'worst seller defeated product waste money',\n",
       " 'order black brown receive black not good seller serve',\n",
       " 'sent wrong size ordered sent size tiny feet total wast money hurting ',\n",
       " 'annoying bad quality',\n",
       " 'shame dark making peoples fool package includes nothing sanitizer quality rd class ',\n",
       " 'asked send brown red mentioned screenshot reminded almost times still sent wrong ones ',\n",
       " 'size not fit quality good packing nice ',\n",
       " 'product good work not wide shown pictures still job recommend ',\n",
       " 'bad experience',\n",
       " 'worst apple pencil year not work anymore pure garage not buy anymore',\n",
       " 'lights started felling two days low quality',\n",
       " 'not bad not heel cover feel uncomfortable cause balance',\n",
       " 'best far reasonable ',\n",
       " 'stars defective',\n",
       " 'good sound charging time not working calling time use movie music time ',\n",
       " ' size small',\n",
       " 'love straightened packing box cheap also box fold',\n",
       " 'boiling water turn yellow color not recommended buy bad experience first time dark ',\n",
       " 'overall quality good got wrong size beck misunderstanding otherwise percent recommended',\n",
       " 'utility product good quality isn ',\n",
       " 'rd time ordered not satisfied unpleasant smell no expire date mean product old expired ',\n",
       " 'order blue size ok order size red twice account sent wrong size measurement can seen pick quality good',\n",
       " 'quality not good price ok thanks dark ',\n",
       " 'seems dry normally oats gets soft mind cooking took long time still felt undercooked taste not pleasant ',\n",
       " 'bought apple pencil pad pro inch surprised chagrined cannot used twitching apes making resort thumb instead pencil drawing plan status also purchased amazon superior every way ',\n",
       " 'potatoes good market buyer sweet dark fresh not sweet also item per web good see ',\n",
       " 'attractive look sex slight tight recommended dark seller',\n",
       " 'shirt incredible great problems like sticks printed getting shirt colour also shedding days',\n",
       " 'not work suzuki every wagon useless no user guide use also phone not pair device can see recognize pad th gen sees not vehicle ',\n",
       " 'mere celebration not working properly ',\n",
       " 'packing not good product good show pictures',\n",
       " 'nice small size',\n",
       " 'shown picture unfortunately one damaged ',\n",
       " 'not high quality product gets job note ',\n",
       " 'good winter',\n",
       " 'truly disappointed seller could added barley hanna flour make least wheat no everyone quick bucks ',\n",
       " 'compression ac tripping axis not axis not making cooling impossible ',\n",
       " 'product good quality blinds evenly skin good consistency packing also good small almost like finger can buy sample',\n",
       " 'overall better price week fabric started too come can see picture ',\n",
       " 'seems like used article bad experience ',\n",
       " 'lights not proper light little tiny strip work strip length iss totally useless behavior guns fixing spotted problem really disappointed ',\n",
       " 'given local product away packing also packing also broken not satisfied product need refund',\n",
       " 'not charging went also give voucher also',\n",
       " 'not worth ',\n",
       " 'cheek plastic useful',\n",
       " 'sounds quality good mid not bed mark ',\n",
       " 'connected old gen pad baggy device shape seems hard grip ',\n",
       " 'poor service two hand frees ordered one delivered spasm guns',\n",
       " 'product good it size not comfortable change axis not book extra large size need size',\n",
       " 'seller so cooperative quality normal',\n",
       " 'stars size much small ',\n",
       " 'average almost turned sides days use',\n",
       " 'pen perfect always if see buy stuff online far good',\n",
       " 'waste money not comfortable got fold whenever sit',\n",
       " 'sizes incorrect',\n",
       " 'worst experience far got faulty nods these not connect infinite note pro connect seconds gets automatically disconnected ',\n",
       " 'potato order kite rider kiss to deliver india bad complex not par roi response nail did gay',\n",
       " 'classic case cool technology failing miserable tried true analogy pencil pen sleek cool efficient not come charge take pad case pair charge pencil not easy get case handwriting conversion text annoying helpful get good keyboard instead want take notes type onto pad ',\n",
       " 'ordered white airport got black one ',\n",
       " 'not buy vendor absolutely fraud powder colour not like muslin powder full sand particles dust',\n",
       " 'not mark expensive product low quality fabric',\n",
       " 'got january one sides stopped working may total four months life span ',\n",
       " 'dear dark order blue color said seller need size unfortunately send black color size already chat order fraud shoes finishing pathetic hard sole worst experience need pay back ',\n",
       " 'fragrance strange chemical undertone putting made overall scent unpleasant unnatural could not shake feeling wearing something synthesis rather well drafted fragrance ',\n",
       " 'good becomes sticky wearing first time not fully satisfied',\n",
       " 'item looked fine not seem damaged apple pencil purchased amazon com services ll already unwrapped arrived sold new not want take granted would continue okay would hold warranty apple called confirmed not packed way not know actually used used long already used maybe someone not want returned trying not know came way apple store may unwrapped distribution center returned item instead bought directly apple store item came packed new ',\n",
       " 'bad quality never buy ',\n",
       " 'product ok working condition housing structure wise much lower good product thanks ',\n",
       " 'price frames market hundred',\n",
       " 'sent completely different product',\n",
       " 'hoofs kind open shape looks kind odd still pretty cool ',\n",
       " 'good quality arrived bit late otherwise okay overall satisfied',\n",
       " 'punch order product get packing within box buds overall product good fully satisfied thanks dark good work delivery time ',\n",
       " 'ordered frames received price quality product average',\n",
       " 'compass not working properly rest item seems fine use soon',\n",
       " 'ordered number send shoes quality low puff bad experience',\n",
       " 'cheap quality ',\n",
       " 'not good better purchase refine cloth cover ',\n",
       " 'product quality not good working ok thanks dark ',\n",
       " 'leg temps per no function ',\n",
       " 'bad experience battery life poor one earned isn working data cable not charging device low poor quality ',\n",
       " 'color ordered clearly black received blue mildly satisfied got delivered delivery estimation quality accordingly price paid item',\n",
       " 'item good little small size however note job nicely ',\n",
       " 'got slammed',\n",
       " 'asked back one sent brown one instead',\n",
       " 'pencil not work brought apple store tried get son pad keyboard would not son apple store replaced still awaiting two year warranty paid not receive ',\n",
       " 'first packing poor professional pad feels used ',\n",
       " 'not hold long charge gen one pencil way charge attaching pad would prefer secondary option charge pencil using pad not want attached pad lose need charge costs already price pen actually cumbersome use can charge magnetically connected pad can no longer easily use pen grip comfort cause get way charging pen also tried two ribs like screw time fall not offer second rib like gen ',\n",
       " 'low quality bags',\n",
       " 'nice finishing sticking size bit smaller standard ok ',\n",
       " 'average quality not big size ',\n",
       " 'scar showed branded product picture delivered branded product even expire date not mentioned good normal use can not use babies disappointed',\n",
       " 'please not buy seller ',\n",
       " 'ordered bags received total unbelievable would not order axis not',\n",
       " 'safe packing not check fragrance yet',\n",
       " 'delivered promised next day ordered mouse pads one better wrist pad quality two mouse pads low quality wrist pads ',\n",
       " 'print not good not shown picture',\n",
       " 'disappointing reviews face ordered steel instead got wooden one low quantity ones never ordering axis not ply reviews face not order made material toothpicks made not order',\n",
       " 'not bad size small like kid toy',\n",
       " 'bad experiences voice not clear package not sealed',\n",
       " 'not waterproof waste product never oder anything dark',\n",
       " 'honest review not worth buying quality not good ',\n",
       " 'good quality product stitching not good overall good ',\n",
       " 'arrived time would not say best material used price definitely good quality serves purpose well arrived given time good experience',\n",
       " 'got christmas used solid couple days suddenly started missing parts letters write really frustration wanted apple pencil bad palm rejection like not work time really irritating ',\n",
       " 'worth money ultimate question writing drawing experience great usual lots bells whistles apple enthusiast would probably drop major coin accessory without question average consumer importance not paramount could lived without added benefits provides still apple pencil great product complements pad air milk every dollar put enjoy best can ',\n",
       " 'pen works great rd one charge lasts okay accuracy fine great procreate hate price absurdly overpriced companies better useful pens cheaper ',\n",
       " 'device per specification battery device dead discharge one day lucky battery naval everywhere',\n",
       " 'not fresh',\n",
       " 'sorry late review order lightning stuff send simple white color upset delivered kiss',\n",
       " 'not soft original one great quality price ',\n",
       " 'extremely poor low quality materials used manufacture wallet seller specified paper cards used wallet instead sort fabric good kiss not adult people want carry money use regularly ',\n",
       " 'ordered pencil use new pad school coming used screen came squiggly line would not write properly since solved particular issue says still transit asked refund failing pencil back amazon want money back poor customer support would not purchasing anything related apple point ',\n",
       " 'glitter bottles half full small size his not bottles colors good however ',\n",
       " 'little crack side',\n",
       " 'absolute trash look length showing feature image look delivered',\n",
       " 'watches good quality ordered pink black black ',\n",
       " 'tried make connection car scanned motor data true pro old car doctor not get success pp ',\n",
       " 'quality wise size big taste bland',\n",
       " 'not interesting product',\n",
       " 'handsfree good delivery time bit late everything okay and good',\n",
       " 'best product price range heavy duty however finishing not good still works ',\n",
       " 'expensive item available is local market ',\n",
       " 'bad quality oil smell found bars ended returning ',\n",
       " 'not advertised dont hold shirt ',\n",
       " 'nice quality best make video party etc time wear black big size delivery soon late',\n",
       " 'nice item poor price ordered number received ',\n",
       " 'near expire huge lumps forming not fresh product',\n",
       " 'received ordered item new condition ',\n",
       " 'not proper working device want change device',\n",
       " 'ordered blue colour got different plastic also low quality packing even getting discount still expensive price overall disappointed ',\n",
       " 'box not lights remote adapted scar ',\n",
       " 'product worthless one laser light not working nd one screws lose opens open cell came furthermore already send order no into desired colours not get colours ',\n",
       " 'order delivered late email says going delivered days got weeks',\n",
       " 'breaks applying wall delicate not unable ',\n",
       " 'also nice nd originally order ll size nd send large not fit overall the',\n",
       " 'ordered large size send extra large also quality just ok not high quality',\n",
       " 'totally damaged used time wrong hardly joined parts first experience bad never recommend ',\n",
       " 'looks really had wrapped gloss black ',\n",
       " 'good quality colors dark ',\n",
       " 'not work older pads',\n",
       " 'poor third class quality',\n",
       " 'small size compare size xiaomi fitness band get buyers idea size ',\n",
       " 'media could not loaded ',\n",
       " 'nice awesome product not see picture',\n",
       " 'shirts quality rest poor material defects like tight neck',\n",
       " 'poor quality used material',\n",
       " 'returned phantom drop to tis two days did th armada th day past did still status pending ',\n",
       " 'good good quality headphones delivery late thank ',\n",
       " 'not work pad pro feel like made clear ',\n",
       " 'product not demand received started use blow seems like third class company would not recommend people buy product ',\n",
       " 'nice headphones average quality good audit base also good',\n",
       " 'received shown perfect quality',\n",
       " 'usual name sale size also reduces hut ',\n",
       " 'disappointed product received damage one',\n",
       " 'sealed open also packing not sealed open not accept able',\n",
       " 'came bad conditions can connected pad pro inches',\n",
       " 'hand wash fine usually dark packing not great refill packs dirty outside cleaned ',\n",
       " 'refrigerator adjustable shelves freeze compartment could spacious ',\n",
       " 'thick fine',\n",
       " 'ridiculous cheap material never shop axis not',\n",
       " 'not satisfied quality bags raise price can reduce pack pack not compromise quality not returning item compared gold brand guns need improve',\n",
       " 'returned package due low quality end old fashioned well',\n",
       " 'face face face selling face gone product sound difference original one handfree sounds like not is hole mid behind gone gone secondly there no mark going return sure',\n",
       " 'look red circle quality not good ',\n",
       " 'worst experience ever product can bought much lower price box damaged wire also damaged near east side',\n",
       " 'one handsfree not working properly good overall good sound ',\n",
       " 'product ok expire short till december not acceptable ',\n",
       " 'not shown bad scandals design change not got design ',\n",
       " 'red blue green color',\n",
       " 'delivery delayed overall experience always great ',\n",
       " 'good product not company shown display picture seller',\n",
       " 'received defective understand happens sometimes refund pending two weeks hell going ',\n",
       " 'made good quality stuff looks beautiful little bit expensive',\n",
       " 'totally wrong product fitting even ordering into please send not think even fit d ',\n",
       " 'nonsense',\n",
       " 'ordered charcoal color sent grey overall product good not order size',\n",
       " 'ball material good air knob not good',\n",
       " 'lower quality lower fabric',\n",
       " 'low quality product bad finishing item damage scratches disappointed seller ',\n",
       " 'send wrong colours send pink colour told time',\n",
       " 'normal quality price justified packing not good seller work packing',\n",
       " 'not fit dwyer',\n",
       " 'recommended not ideal places electricity fluctuates often burnt adapted ',\n",
       " 'received tollers receive clips not satisfied product kindly send clips',\n",
       " 'good plastic low quality',\n",
       " 'received faulty product',\n",
       " 'worked fine month stopped connecting not connect barely charges can connect ',\n",
       " 'bad experience bad cellular',\n",
       " 'rd order wiped mosquito repellent packing good spilled bag keep working packing',\n",
       " 'stopped working',\n",
       " 'bad experience unit came defective motor get replaced company disappointed ',\n",
       " 'good stuff would better open jump rings round instead triangle ',\n",
       " 'one isn dip low quality plastic material no side buttons working even strolling wheel top not work',\n",
       " 'airport well no bass good experience ',\n",
       " 'honestly little disappointed feel like robbed give bad review would say appreciated apple pencil box also liked apple pencil worked however would say thought given new version apple pencil say one got looked like used pictures see apple pencil debts beginning said felt robbed saw different buying option saw one option said new got opposite say got price high aside issue apple pencil worked connected magnet can write ',\n",
       " 'values always less oximeter not know accurate actual',\n",
       " 'ac received two days promised free installation awaited customer service not responded even days generation request installation poor customer service ',\n",
       " 'not charitable am disappointed receiving thought charitable lights ',\n",
       " 'although size written written actually smaller written size otherwise good item price',\n",
       " 'nice flexible ll size not long considering delivery cost ok price',\n",
       " 'low quality already request return butt no contact ',\n",
       " 'poor quality cheap remote stopped working days even replaced battery sticking led bad waste money',\n",
       " 'sound quality okay not sure original not ',\n",
       " 'expired item receive have return item',\n",
       " 'way overpriced thin piece cloth please not fooled not swimming anna whatever written ',\n",
       " 'ordered new nd gen apple pencil received open box st gen immediately suspicious realized not shrink wrapped saw box also torn took clearly apparent not even nd gen not look plugged charge pretty sure already returned least reason shipped right back apple pencils great not waste time buy one somewhere reputable learned lesson ',\n",
       " 'remote not working even replacing battery lights good far seller not seem interested responding ',\n",
       " 'original box noticeable traces dirty snuffing no information booklet inside two booklet warranty descriptions different languages also box sealed appears open box product not see notice bought bought new bought gift can not give gift condition returned ',\n",
       " 'disappointed dark seller three bottles leaned shampoo empty full bottle drop strongly disappointed can purchase dark bad experience',\n",
       " 'price much higher original',\n",
       " 'job plastic not good quality',\n",
       " 'came packet instead box not satisfied low quality',\n",
       " 'face product not recommended buy not original copy gone handsfree ',\n",
       " 'packing safe delivered fast one problem novel not fit ',\n",
       " 'super asia cooper purchased dark arrived bit later expected disappointing packing also disappointing using week noticed strange smell air water droplets backside cooper ',\n",
       " 'overall good product keep mind not overcoat',\n",
       " 'size stars small not shown picture ',\n",
       " 'product size small compare shown pictures finishing also not satisfying ',\n",
       " 'original product delivery time could reduced ',\n",
       " 'time everything really bad quality waste money',\n",
       " 'product ok seller co operative size smaller expected my mentioned seller packing good little overpriced',\n",
       " 'item pretty much described video can complex not remember proper colors rib colors not appear strip instead light far away appear color strip still appear multiple different colors would advise everyone looking color apart rib colors look variant one not multiple colors strip shown video ignore reviews show purple colors strip even goose variant better support good luck',\n",
       " 'application not run failure watching',\n",
       " 'see received two seller drama mall two different orders face cover different inside face not head shoulder put ',\n",
       " 'months use pencil deemed defective contracted apple replacement',\n",
       " 'not shown video less not color changing color less placed totally unsatisfied ',\n",
       " 'th generation pad product not work incompatible ',\n",
       " 'received parcel today quality ok cover white want grey',\n",
       " 'item ok not fit bearer device useless would like return not working gives error',\n",
       " 'fine not much good',\n",
       " 'not loud sound',\n",
       " 'product complete waste ',\n",
       " 'tip mine got cracks right tip opposite sides keep book bag pad magic keyboard also works double tapping tip get fraser pen great keeping phone logs work notes pp ',\n",
       " 'perhaps worst purchase dark far disappointing returned ',\n",
       " 'bad results',\n",
       " 'size short price',\n",
       " 'worst experience quantity reduced supplier ',\n",
       " 'face products ',\n",
       " 'worst purchase dark pp far',\n",
       " 'received even not know worst experience',\n",
       " 'packing needs improved please box damaged way least bubble warp ',\n",
       " 'device would not pair phone though working perfectly andros thanks geepact product good working infocar car scanned apes pus take time understand well not work dr pus anyway thanks good product money',\n",
       " 'material not bad good storing clothes stacks ',\n",
       " 'broke returned ',\n",
       " 'not work correctly would not write review pen literally broken refurbished item rolled dice top pen fell opening sell refurbished product least glance ',\n",
       " 'quality low really useful ',\n",
       " 'ordered strip light seller got faulty one bad experience hard earned money wasted ',\n",
       " 'colour size good stuff not good price',\n",
       " 'received bags bad condition ',\n",
       " 'well packed timely delivery quantity normal',\n",
       " 'poor quality ',\n",
       " 'scar alert ',\n",
       " 'sent right size picture shoes looked like navy blue actually black read description know picture can disguise sole not great shoes fine price ',\n",
       " 'assembly tip please make sure tightly insert steel noble assembling otherwise water leak dispense periphery filling jug bottle ',\n",
       " 'working fine suddenly would not pair pad fact not detestable bluetooth device yes charged far know no way communicate tell going no lights plugs read out looks cool stops working brilliant ',\n",
       " 'works well enough however plastic tip screwed way little center rest pencil not know defect pencil cheap plastic tip not come spare tips could compare axis not know sounds like nitpicking high price high expectations ',\n",
       " 'product received broken bottom fix shown first picture working fine',\n",
       " 'worst experience not expect happen darazmall nd time received wrong product used years old bottle pathetic',\n",
       " 'worked great months not work lost adapted price little low packing good',\n",
       " 'not negative review product seller bit misleading received product looks opened can find warranty ',\n",
       " 'item order wrong product item ordered apple pencil th generation ',\n",
       " 'cheapest quality not recommended ',\n",
       " 'good product pick select brown color seller send pink color ok',\n",
       " 'poor quality packing bottle already open box waste money',\n",
       " 'nice product ha value money ',\n",
       " 'product little bit expensive otherwise fine ',\n",
       " 'good liked ',\n",
       " 'absolutely terrible material quality almost close paper bag tore nipper packed full moved ',\n",
       " 'nice keyboard button good need time adjust cut pressing key little bit hard get use nice product',\n",
       " 'low quality product not even stand straight falls pipes bend joints flexible base not sealed insects can get wardrobe',\n",
       " 'small young small kiss',\n",
       " 'sir working days ',\n",
       " 'perfect quality heads good mid want connect console not good connect connected headsets made pp voice law console ',\n",
       " 'according price ok not good solid material delivery time h',\n",
       " 'quality vise not good bag that hi that gay say hope improve quality future bad experience ',\n",
       " 'price bad experience',\n",
       " 'arrived open damaged used official apple pencil box summer ',\n",
       " 'update pencil no longer charges not even year told can anything sucks pencil works fine dirty not appear new not believe sent new pencil would love refund cannot afford pencil moment travelling highly disappointed feel slammed ',\n",
       " 'sole passing far three ha see law rah ha pair shoes hen',\n",
       " 'worst quality works days',\n",
       " 'supposed get money back',\n",
       " 'came used no sealed anything disappointed waste money id rather apple want refund cut utf',\n",
       " 'colour good quality bad dark order ability bad order send axis not axis not collect order rd one cancel order axis not deliver',\n",
       " 'bad expression',\n",
       " 'price expire date not mention remove price expire date can see picture overall okay',\n",
       " 'not good quality empty inside not recommended',\n",
       " 'packing bluff overall nice',\n",
       " 'well packed',\n",
       " 'item working perfectly fine month no stopped talk customer support suggested getting appointment went best buy told go apple replaced not buy amazon get apple ',\n",
       " 'shoes package packing deliver time',\n",
       " 'worst literally broken',\n",
       " 'got product not think must came without plastic wrap everything fine like days later stopped working mad reason got pencil school up stopped working tried everything wasted money passed',\n",
       " 'totally different pick disjointed',\n",
       " 'problems strip light although colours bright except blue colour purple light purple not available need seller response ',\n",
       " 'settlement seller product quality not mark satisfied sale services seller',\n",
       " 'mouse pad really good price highly recommended buy not satisfied packing mouse pad curled corner ',\n",
       " 'low quality product ',\n",
       " 'nice lights light size small ',\n",
       " 'sound coming one ear',\n",
       " 'shoes dirty poor quality also ordered number size receive number in not satisfy product ',\n",
       " 'not happy product filled polyester type cotton thanks dark refund ',\n",
       " 'good white part coming one use ',\n",
       " 'cheap airport sounds cheapest ',\n",
       " 'unexpected small size little pressure disheart',\n",
       " 'size small not good not waste money shop not buy cheat',\n",
       " 'product came late promised greasy feeling applying not compare one earlier bought local superstore person leads believe not genuine would not buy axis not feeling sad wasting precious money ',\n",
       " 'average personally not like product not came expected not worked actually',\n",
       " 'not worth money thumb broke ',\n",
       " 'bad shows wearing',\n",
       " 'faulty piece delivered muffled sound output no matter whichever earphones try checked two different captors different earphones product seems used already color back little faded first bad experience dark ',\n",
       " 'packing quality lights perfect adhesive back could made stronger ',\n",
       " 'used acceptable pencil would pair pad would not work screen tried two pads not work either good pencil worked pads something may wrong tip internal pressure senior couple kings edge scratches replaceable tip received see photo might indicate damaged though may cosmetic mistake not identifying problem return window closed cost pencil live learn ',\n",
       " 'product good everything working volume level low due low level volume not properly unable ',\n",
       " 'not bad kiss ',\n",
       " 'received parcel today mixed another parcel rider found delivered back',\n",
       " 'not good ',\n",
       " 'totally wrong order not ordered scrunching ordered multi colored inappropriate',\n",
       " 'not satisfied one side earned not working',\n",
       " 'worked well months stopped charging went apple found sold pencil warranty would not even replace ',\n",
       " 'not satisfied charge item',\n",
       " 'connect pad min disconnected need keep putting charging port order connect ',\n",
       " 'ordered shoes one black gray delivered black marked order delivered pathetic service',\n",
       " 'product denied side arrived warranty card not date stamped',\n",
       " 'board ok quality not good board started breaking end little use not recommend',\n",
       " 'stopped working worked fine like week stopped working pad not recognize can help please',\n",
       " 'not working properly ',\n",
       " 'overall good experience price ',\n",
       " 'see image pencil nothing connect no battery papers pad air th gen supposed easy',\n",
       " 'using two three times started stuck ',\n",
       " 'good problem wire came socket later caused big problem audit pretty good head set audit completely disappeared sad moment',\n",
       " 'ordered purple colour seller sent pink hate mug seller wrong colour never reply not buy kind people',\n",
       " 'not overlay impressed given price right ',\n",
       " 'much costly ',\n",
       " 'received parcel nice small well working good thanks dark',\n",
       " 'red less stay even turn lights remote red less stay even switch green blue',\n",
       " 'good product job edges rough not look neat ',\n",
       " 'quality company okay',\n",
       " 'poor quality not recommend ',\n",
       " 'a product not working ',\n",
       " 'bought son pad not work purchase another different pen compatible pad ',\n",
       " 'no recommended bad experience',\n",
       " 'recommended beginners not body builders provide maximum weight les g not good according ',\n",
       " 'average product ',\n",
       " 'good flow rate slow can used pouring water glass pouring water jug bucket takes time good feature can fit many different size bottles ',\n",
       " 'package broken band new ',\n",
       " 'not connecting nor even showing fuel ave',\n",
       " 'stuff quality ok daughter happy ',\n",
       " 'bad can even drag click caps total scar',\n",
       " 'not good defective not work horrible product',\n",
       " 'changing delivery guns charged extra money swing option not properly working one month use started giving burning like smell not know whether cover fix warranty call helping tomorrow',\n",
       " 'receive parcel product happy thank dark ',\n",
       " 'normal quality ',\n",
       " 'yes time use mention pack good product easy useful ',\n",
       " 'package little bit smashed us cover pips everytime pull ',\n",
       " 'good issue ordered silver received golden',\n",
       " 'lost stars carelessness send damaged piece can see pick',\n",
       " 'sent used underwear full dirt threw basket ',\n",
       " 'can get work ',\n",
       " 'hey anna know airport not connecting time no voice airport can tell ',\n",
       " 'ver bad ride product',\n",
       " 'return watch please help ',\n",
       " 'packing good speakers also good speakers little bit hard ok',\n",
       " 'left airport speaker broken sound poor can enjoy overall quality good in returning ',\n",
       " 'bad experience waste money',\n",
       " 'light material bag',\n",
       " 'seizing bandages received dark inconsistent small large practical use',\n",
       " 'got watch not came shown bracelets box',\n",
       " 'nice blades not sharp shows details not bad much matter others',\n",
       " 'apple pencil box not not come original plastic wrap apple pencil box open hairs inside pencil box plastic sticky wrap pencil appeared taken put back pencil dirty not expected returning',\n",
       " 'quality local ones expensive',\n",
       " 'quality product good short',\n",
       " 'sounds good really small size battery time satisfactory ',\n",
       " 'disappointed product low quality seems old used damaged sides horrible used smell returning ',\n",
       " 'bad old expire',\n",
       " 'not ever try buy fabric not good quality ',\n",
       " 'delivered one lock broken',\n",
       " 'bad experience brushes already used feathers not positions outside ',\n",
       " 'bottle empty',\n",
       " 'bluetooth not available feature necessary basic ',\n",
       " 'waste money time',\n",
       " 'live to channel not playing sucks',\n",
       " 'think not genuine one written product description yet fine option amount ',\n",
       " 'quality not told description seller unload original pictures ',\n",
       " 'nice design super summed seems like pad isn compatible pencils would loved use ',\n",
       " 'quality good asked pink one not not claim ',\n",
       " 'dint know stuck no sticky thing ',\n",
       " 'sad ordered two lotions one bottle head broken not recommended ',\n",
       " 'low quality shoes',\n",
       " 'asked baby pink color shown picture came dark pink also the thread missing could made bit nice looking not recommended waste money',\n",
       " 'received bandages dark nearing expiration date selling nearly expired medical supplies unacceptable',\n",
       " 'buckle different pick leather good',\n",
       " 'useless almost much small size',\n",
       " 'product isn bad size not right one',\n",
       " 'could not pair not son pad',\n",
       " 'expired product received face seller face product',\n",
       " 'tent bag gripped sides not used tent yet ',\n",
       " 'wrong product delivered ordered brown colour number instead brown got light golden brown please see carefully packing',\n",
       " 'got delivery hours recommended taste less',\n",
       " 'not waste time work construction another industry may drop devise dropped mine tip broke replaced tip pencil not work better spending less knock rather throwing away pencil ',\n",
       " 'wallet quality not good otherwise customisation good ',\n",
       " 'folds normal lid water liquid form not hold write freezing',\n",
       " 'bad experience one side not working please improve product quality right side working volume slow return product ',\n",
       " 'shown delivery took ages',\n",
       " 'small box little mirror hope works well ',\n",
       " 'item shown picture not deliver quality substandard still mostly people avoid shopping dark cause substandard material mostly theaters selling dark platform sometimes money not matter quality items constable ',\n",
       " 'shown picture quality not good delivery within days',\n",
       " 'apple pencil two ribs lasted months rib got apple pencil came no spare ribs default rib absolutely used box thrashed can see metal tip week ownership terrible quality need buy new ribs brand new pencil edit apple support telling warranty means product likely year old sitting shelves worse used sold new amazon leaves little recourse used product amazon quality control continues slip likely stop using amazon big ticket purchases can not keep stock control ',\n",
       " 'case smaller expected even can not put handsfree earbuds together delivery charges high delivered time ',\n",
       " 'received leaking hand wishes never expected sort packing dark mall covers hand wash not tapped like previous ',\n",
       " 'not know one not adaptable pad would know truly works ',\n",
       " 'order colour delivered colour not good draw take action axis not type sellers',\n",
       " 'quality umbrella ok according price',\n",
       " 'honestly product awesome not survive drop rib snapped half leaving half ribs core stuck inside pencil tried remove cracked sad guess time pick overcome ',\n",
       " 'package good sd card not available package sd card missing ',\n",
       " 'ordered red onion dark send brown',\n",
       " 'today aug received new apple pencil box yes no pencil opened box pencil no found know apple usually wraps boxes plastic one not wrapped gave one star can not rate something not ',\n",
       " 'quality extremely poor affect eyes badly worked video dozen video even quality video poor rule glass not recommended ',\n",
       " 'relay stopped working worked mind tells hemp not controlling bulb',\n",
       " 'amazing good quality good fast delivery got amazing packing totally recommend little much delivery charges overall amazing recommendations',\n",
       " 'bad experience simply wastage money ',\n",
       " 'apple pencil great concept works awesome however pencil stopped working within month item not available returns waste ',\n",
       " 'one product different bundle ',\n",
       " 'packing good color ok',\n",
       " 'average quality face mass ',\n",
       " 'handsfree pathetic two day use one ear stops working can say ',\n",
       " 'received without fault beautiful shown quality material packing must improved ',\n",
       " 'cover not fixed first one run months second order',\n",
       " 'good things not happy little bit damaged one side his not scratch table top not clean white stuff tried wipe wet water still whiteness ',\n",
       " 'sir open packing light put power cell light not working feel button jam not able work rubbish item',\n",
       " 'product quality barely satisfactory heating ability reasonably good produces steam minutes excellent product price pictures taken repeated use ',\n",
       " 'wrist ever product totally different cover shown picture rd class quality ',\n",
       " 'product shown pictures built quality beautiful not like performance product',\n",
       " 'to slow boot takes long time switch channels ',\n",
       " 'not waste money buying product not even dust proof nor water proof useless ',\n",
       " 'delivered time green lights not working properly overall product good medium quality',\n",
       " 'packing good smell not',\n",
       " 'fully satisfied shoes size bare aye is no',\n",
       " 'took two weeks get turns refurbished not even work return went target bought new one worked perfectly ',\n",
       " 'quality fabric poor rather see one not recommended price ',\n",
       " 'got based review saw not even taste close patella tastes wildly putty',\n",
       " 'to remote control stopped working days use ',\n",
       " 'quality really bad small size wanted medium isn not good brought face put photo look rough ',\n",
       " 'useless no get coming brush returned product',\n",
       " 'average',\n",
       " 'lights work remote not want working remote',\n",
       " 'sound not good also less base music also conductivity issue call worse experience',\n",
       " 'noticed months pencil often would pair pad everyday would not hold charge work longer minutes eventually buy new one palmar amazon may discount pencils take risk not working advice pick one person palmar get paper receipt anything ever happen ',\n",
       " 'remote not working led strips broken please give money return',\n",
       " 'shirt amazing shown picture give purple except order pink purple match purple army buy cloth quality amazing army buy ',\n",
       " 'not work connect discontent not reading clearing faults driving pus no pp works bonus elm product requested return hopefully get cannot read as mrs arbat codes pp ',\n",
       " 'not original shed',\n",
       " 'cheap rd class quality',\n",
       " 'received tooth brush little bit late things perfect ',\n",
       " 'regret ordering sexual weakness item dark product arrived damaged visible cracks defects unable potentially safe lack quality control care packing shipping evident left unsatisfied frustrated purchase ',\n",
       " 'earphones seem okay quality think right price pay ',\n",
       " 'wheat flour period black seeds tossed onto add kalonji also time grinding get chalk ka att half price father one roi sugar spike badly rare rice potato sugar etc ',\n",
       " 'pump broken not working condition really feel bad please always double check delivering online customer not choice return',\n",
       " 'timely delivered bad packing bottle leaking pump side disappointed',\n",
       " 'not working without charge ok ',\n",
       " 'paid extra light blue seller always cheat color like low prices th time experience ruined seller stays color blind customer choice color ',\n",
       " 'received not working properly ',\n",
       " 'bought pieces one faulty one iv remote not working able repair otherwise packing light good ',\n",
       " 'totally third grade returned money not returned ',\n",
       " 'next time kindly improve packing fold ',\n",
       " 'colour stitching not good ',\n",
       " 'ordered pieces wax strip sent paid full amount ',\n",
       " 'open parcel watch order belt broken',\n",
       " 'pay brand new apple pencil received opened box apple pencil no plastic paper box apple pencil ',\n",
       " 'message send two white shirts guy send two grey shirts no white shirt addition guy send torn red shirt holes want reclaim ',\n",
       " 'not much satisfied',\n",
       " 'not bad thought sticky',\n",
       " 'received mail not get days ',\n",
       " 'warning not turn stylish his hotly writing not ideal stop writing click pp want stroll home page screen not work also charges side pad pretty fast case not allow connected side pad time even fully charge not touch pen days go use completely dead charge axis not not sure dying even though not used none less accurate writing great take notes footnotes pp irritating trying use keyboard not using note taking really worthless ',\n",
       " 'nothing wasted money time ',\n",
       " 'order safi received ha ski use by pa coal gay ',\n",
       " 'ill fitted gloves unsatisfactory',\n",
       " 'little prices',\n",
       " 'low quality like rubber fold easily hard main shape',\n",
       " 'speakers fine not use right one keeps disturbing making noise mid not work either',\n",
       " 'not work andros device ',\n",
       " 'highly disappointed size bandages received dark much smaller advertised making inadequate covering larger wounds essential sellers provide accurate product dimensions avoid misleading customers ',\n",
       " 'waiting delivery previous experience dark satisfactory ',\n",
       " 'loved quality shoes size ordered bit tight overall good quality highly recommended',\n",
       " 'data cable ni fili box open the ',\n",
       " 'product totally fine works well box little damaged',\n",
       " 'shown received battery not rechargeable low fast battery issue not solvable good want rechargeable ',\n",
       " 'product good many problems delivery service got lost times transit order axis not wasting lot time not seller mistake',\n",
       " 'not know problem tried hanging installing came got bent candles',\n",
       " 'third class quality',\n",
       " 'nice product described issue size must available least different sizes ',\n",
       " 'comfortable could not understand would used without thing',\n",
       " 'kindly improved quality order oils smell like mustard oil ',\n",
       " 'pencil pairs pad not write bought new tips still not work ',\n",
       " 'prices can not even include extra rib bought pad purely cheap procreate otherwise pad utterly useless compared pp andros possibilities apple not good company pen status would include extra tip not lame apple corporation bent lipping people limited products',\n",
       " 'ordered one non functional returned please make sure check products sending ',\n",
       " 'bad experience speaker quality bad mid also bakers ',\n",
       " 'nice price not comfortable no doubt price amazing',\n",
       " 'bottle half empty order two sad see half empty bottle however looks original pleas seller next time never send half empty bottles',\n",
       " 'sound quality not good',\n",
       " 'quality good brightness not much expectation give ',\n",
       " 'quality thorn low ha makar the ha is',\n",
       " 'recommend big face',\n",
       " 'really good ordered size small like size ',\n",
       " 'light good thing lights length less best recommended many colors ',\n",
       " 'reasonable stuff delivered time the',\n",
       " 'zero star seller ',\n",
       " 'excellent quality size isn according size guide ',\n",
       " 'bought apple pencils sister brother disappointed touch pen not expected thought would better touch try writing phone not satisfied ',\n",
       " 'total face thing never buy ply',\n",
       " 'not like stuff looks nice packing pictures real material not good ',\n",
       " 'low quality ',\n",
       " 'received product days',\n",
       " 'mid not working ',\n",
       " 'adapted not working connected lawton adapted worked ',\n",
       " 'low quality product material finishing lacks quality well seems used nd hand product extremely disappointed seller not recommended ',\n",
       " 'bit hard compare wax available market',\n",
       " 'small also repeated pairs not bad delivered expected date ',\n",
       " 'low quality plastic product not worth buying pieces color e white not shown store not recommended buy',\n",
       " 'product good not packed properly covered card board no shipper no courier packing ',\n",
       " 'one got came broken whipped sub haired pad would not drawboth shipment replacement delayed',\n",
       " 'not per picture quality also',\n",
       " 'no actual glass no better result not waste many want actual glass',\n",
       " 'good little scratches ',\n",
       " 'not good ordered buckle pay received two ',\n",
       " 'ball damaged',\n",
       " 'ordered lights working absolutely perfect length not peters bit less ',\n",
       " 'much poor quality size speck totally ',\n",
       " 'assalam alaikum may seller colour blind could not differ black brown color ordered brown send black article disappointed ',\n",
       " 'bad waste money totally rubbish bad experience',\n",
       " 'waste money logging refund request ',\n",
       " 'price compare price',\n",
       " 'thank so much sending cheap broken watch ',\n",
       " 'not delivery home instead go collect near city not make sense everything great ',\n",
       " 'package received fast honestly speaking really feel waste money toy used stop not work properly sir not call better not work really thin wire not move put coffee beats ',\n",
       " 'great size quality really great using months almost due high sole shoes aren really comfortable longer time period ',\n",
       " 'product seems defective slightly leaking bottles level different',\n",
       " 'frame bent overall quality bad away bolts useless prepared buy better quality away bolts ',\n",
       " 'packing not good reply open the voice quality poor ',\n",
       " 'second time in ordering first great quality like cheap market ones bad quality second time disappointed in returning product not worth even is ',\n",
       " 'not buy part strip works part not work worst experience dark ',\n",
       " 'good experience product per order',\n",
       " 'bad quality never going buy axis not',\n",
       " 'description genuine leather mentioned reality up coated split not genuine leather picture dark received item totally different really disappointed wastage money time ',\n",
       " 'not buy shoes quality material even though good shown pick not comfortable high sole extremely difficult walk keep flaming ',\n",
       " 'ordered apple pencil anticipation new pad air back march marked new paid full price worked fantastically next months pencil not hand attached side pad air kept charge time not using draw procreate illustration photoshop aid note take always aware battery level devices always plugged pad every night charge desk first thing morning worked always checked pencil ever detached whatever reason connected observed near every time minutes later back full charge fast forward august apple pencil suddenly stopped charging next days failed charge died first time would intermittently charge every days appeared charge seemed fine days sporadic use would notice apple pencil not charging still kept pencil attached pad charged magically would charge axis not forgetting pencil connecting several times would sporadically not his notes not charge busy lot important projects time low priority life finally last week september refused charge would charge enough connect via bluetooth briefly discontent took pad local best buy apple authorized service provider diagnosed bad battery would not charge teach asked purchased pencil indicated march checking warranty may active checked aerial number axis not apple database told originally purchased january bought new pencil got used pencil seemed work fine year left would wondering suddenly stopped charging could wrong pencil last long stop working apple pencils notorious not good product granted device one year number months not expect cap quickly year old whom status tablet still work phone max still works not daily driver still year old new works like take great care technology took care followed directions especially not get wet feed midnight took vacation summer stayed room not even around water sand yet aluminium plastic stick useless like fool not purchase apple care plan pencil mistake apparently used bought amazon lied spent another one best buy day much chagrin wife not could see treated poorly not keep charged not case amazon sold used pencil may defect double checked order make sure not buy refurbished used pencil not since worked almost months probably nothing can ',\n",
       " 'quality great quantity not enough according price',\n",
       " 'poor quality table product owner also not cooperative legs ',\n",
       " 'not tm work natural light artificial light',\n",
       " 'skin white original soap packing ok not safe packing condition ok old rates not good ok',\n",
       " 'package not pack anyway product good',\n",
       " 'not good small',\n",
       " 'salt not taste good compared imported organic peanuts butter ',\n",
       " 'product not shown picture axis not disappointment ',\n",
       " 'waste money time st thing noticed without cap whoa bottle almost empty seriously dark mall ',\n",
       " 'delays sound see sometimes goes disconnected without reason ',\n",
       " 'good experience bit late fresh good',\n",
       " 'package received time one side hand free mute no sound complex not customer service told come replace hand free till nobody arrived murat ',\n",
       " 'really works worth buying his notes ',\n",
       " 'average product vibration afternoon installation',\n",
       " 'cheap first copy product',\n",
       " 'terrible would not connect pad two months even apple care could not help would like request refund replacement ',\n",
       " 'scuttle not even recommended club level sports totally unstable air no short accuracy better go is gold ghafoor quite costly per scuttle however even expired is stable air new scuttle ',\n",
       " 'wasted size looks like finger',\n",
       " 'comes good condition takes much time energy use ',\n",
       " 'not connecting pad battery not even show attached',\n",
       " 'lower power not good however may used domestic purpose ',\n",
       " 'thin mousepad no foaming underneath ',\n",
       " 'deliberately sent items low size save raw material received medium ll size shirts bad',\n",
       " 'missing tip broken top can not replace tip',\n",
       " 'quality good secondly touch poor cannot say anything else ',\n",
       " 'pencil gave not work tried everything read lots things order make work nothing worked ',\n",
       " 'purchased ',\n",
       " 'product needs looked design way apple pencil tip flies break even slight pressure applied much replaced times years nobody design horrible idea since can not fix anything one part breaks ',\n",
       " 'is including delivery useless cell phone built speaker gives loud better sound rather product not recommended ',\n",
       " 'item not useful show video not satisfied ',\n",
       " 'cheap product pathetic',\n",
       " 'thought buying nd gen apple pencil instead received old st gen apple pencil description clearly said nd gen not sure got instead ',\n",
       " 'product satisfactory price ok delivery also made reasonable time negative point delivery charges picked order not charged dark ',\n",
       " 'works fine little water otherwise starts spelling size small handy useful product ',\n",
       " 'size small ',\n",
       " 'face product please recommended not product',\n",
       " 'found price fragrance exorbitant offered scent mediocre best nothing justified high price tag felt like could find similar even better fragrance much reasonable price',\n",
       " 'ordered pieces one piece not working ',\n",
       " 'product good not get color ordered',\n",
       " 'product came time not claims expensive ',\n",
       " 'ordered aprons parcel received aprons good price no caps parcel missing description article shows apron cap ',\n",
       " 'order packs total shirts send pack shirts seller fraud',\n",
       " 'quality size ok',\n",
       " 'not happy order',\n",
       " 'dim lights not worth ',\n",
       " 'considering price good ',\n",
       " 'received parcel th august not support window sport window many keys not working properly also big stretches refurbished not good',\n",
       " 'size leaves bit small overall good product price range ',\n",
       " 'mind size not actual unloaded overall good',\n",
       " 'stopped connecting pad days using',\n",
       " 'came without caps otherwise useful ',\n",
       " 'got skateboard not shown picture whenever stand makes cracking sound going break',\n",
       " 'value money stars product service s sorry ordered twice twin brothers times sent wrong colors that lose customers ',\n",
       " 'bad quality received completely different poor quality two umbrella not waste money horrible service',\n",
       " 'face jail product not glowing seller should anna',\n",
       " 'good condition opened no instructions manual without not know control buttons not work meant voice comes baggy thing work mid left earned sounds like voice coming right earned normal regret buying would better would gone bid headphones wired ones would also cost price battery charging case finish fast ',\n",
       " 'product looking fine not description packing ',\n",
       " 'not equally balanced seller fraud basic thing seller check sending customer kindly refrain not ordering ',\n",
       " 'lock button not working',\n",
       " 'not good quality',\n",
       " 'product seems good battery timing not good',\n",
       " 'bad experience lights not turning waste money time just not order it ',\n",
       " 'no good quality',\n",
       " ' piece not working fine mid side handsfree not fine',\n",
       " 'overall quality product good not satisfied product takes mind fill single glass water also keep pushing button water returning not good not match description slow speed water pump also stops every time filling glass ',\n",
       " 'fabric quality not good elastic quality loose price ok',\n",
       " 'good difficult use',\n",
       " 'low quality third class ',\n",
       " 'not crazy egyptian cotton blend anything fancy good looking nice feeling basic day day kitchen hand towels work look great job part buy exactly axis not get old ',\n",
       " 'low light not useful dressing tables',\n",
       " 'not good right side earphone not working ',\n",
       " 'received balance refrigerator go inverted today opened glass door broken please guide proceed exchange ',\n",
       " 'brush nothing cheap quality justified compared price however cannot used oaks cleansed throwing away',\n",
       " 'respected seller not fair colors new color packed wrap rough used seal broken ',\n",
       " 'purchase asked balance customer care compression ensued install panasonic arcelik oppressors products unfortunately small compression not heavy duty made china wanbao compared size refrigerator however cooling fine ',\n",
       " 'soft comfortable',\n",
       " 'ordered one blue pair size receive size poor seller quality poor already plastic broken one pair shoe plan refund amount back wallet plan room',\n",
       " 'good transparent soap base made soap far turned great problem not lathering much mixed little bit eye soap make lather ',\n",
       " 'bad experience poor quality',\n",
       " 'first used v adapted seemed good connected output described images product not worked',\n",
       " 'ok not good picture ',\n",
       " 'best book financial motivation education paper quality good would recommend seller please pay little attention book binding bc binding not long lasting ',\n",
       " 'average sound quality ',\n",
       " 'hours passing lights wall quarter lights stopped working completely no return policy low quality products hated experience',\n",
       " 'received wire broken',\n",
       " 'order delivered late everything ok ',\n",
       " 'not purchase guy bad product not fitting ',\n",
       " 'quality not unto mark ',\n",
       " 'design thin ',\n",
       " 'return shoes ',\n",
       " 'got expired milk delivered march jan expire date bad luck ordered ',\n",
       " 'ordered gray glasses see would deliver waiting week disappointed product seller check bifocal material quality slim frame product opposite expectations recommend buy local people footpaths sell best price ',\n",
       " 'ended small size not refusing amount ',\n",
       " 'ok need use cloth strecthable cotton instead regular cotton trouser means comfort flexible',\n",
       " 'product gives quick results temporarily would recommend use special events ',\n",
       " 'literally poor quality',\n",
       " 'great not get brochure looks awesome',\n",
       " 'totally deformed stir not oil disappointed service',\n",
       " 'must disappoint product',\n",
       " 'low quality ',\n",
       " 'product shown pictures give order items sent one order consignments not unfordable do do experience not fair',\n",
       " 'white portion hard foot his not inner soul not good hard ',\n",
       " 'true pro pp says device cheek alone use original one maybe right ',\n",
       " 'pink color ordered blue received good quality fast delivery thank dark',\n",
       " 'not effective',\n",
       " 'stitching shape ok',\n",
       " 'metre working disappointed ',\n",
       " 'looks like original gone seller sent small gift well no bubble packing could damaged share use',\n",
       " 'not dust proof poor quality shame saber',\n",
       " 'not bad product fine',\n",
       " 'ordered mix fruit shampoo send cherry thanks',\n",
       " 'first earn trust order axis not send faulty products case dark compensated seller straight away refused resolve issue ',\n",
       " 'lowest quality high price quite harsh skin cheap replied original gloves no value money single useless glove not worth ',\n",
       " 'not regional not effective',\n",
       " 'unfortunately received first generation apple pencil instead second generation pencil double checked outside bubble wrap stick clearly says second generation pencil first generation would not work pad pro frustration ',\n",
       " 'worst quality not shown pick not flavour said',\n",
       " 'extremely slow delivery',\n",
       " 'not good quality good enough price',\n",
       " 'asked ll shirts gave medium not responding bad company',\n",
       " 'loofah suck even though use loofah quite clot good one not tear lack better word fast mean sure dual color tone seems quite done loofah able serve purpose ',\n",
       " 'beyond unhappy expensive purchase right deadline return began becoming reliable apple product expected disconnected often resists initial attempts recollect since purchased pad his not purpose drawing losing proposition not recommend ',\n",
       " 'walker plastic quality average compared price delivery time packing good ',\n",
       " 'unvexed tried use not working screwed tip see yellow stick part broken rib passed mortification beyond ',\n",
       " 'not customize item arrived wrong name no number',\n",
       " 'not expecting low quality sticky tape not working kept dropping even though previously asked seller stick wood lights also stopped working days waste money',\n",
       " 'normal ',\n",
       " 'not product ordered changed product image ordered like tube pick also available previous reviews ',\n",
       " 'can contact message personal whatsapp no privacy policy contact not buy cheek sellers complex not ',\n",
       " 'face andros software no go ram slow poor rd copy box',\n",
       " 'no start waste money local atom more hearts ',\n",
       " 'delivery time ok packing great low quality rubber making hand black ply display rubber name not paper name',\n",
       " 'glasses frame quite good however',\n",
       " 'not working even not sell not buy ',\n",
       " 'cause many breakouts face small',\n",
       " 'hands free good quality mentioned description delivery time improved item delivered rd day placement order ',\n",
       " 'pencil clearly charging dots tip yellow faded gave christmas gift return day christmas eve wanted open day definitely returning ',\n",
       " ' bad experience',\n",
       " 'low battery',\n",
       " 'wife not working heating issues really disappointing stand outer even one signal appears lawton gets full signals far away want full refund bad experience not buying anything seller axis not ever',\n",
       " 'not buy totally face product not working',\n",
       " 'works fine',\n",
       " 'service good timely red product different an product shown do not recommend',\n",
       " 'dint buy product package army pond per candle mind airport not work',\n",
       " 'product good also mention size also ',\n",
       " 'product not good',\n",
       " 'send apple jam not mange bad already order apple jam ',\n",
       " 'bad quality size small',\n",
       " 'product came not work ',\n",
       " 'delivery tooooo late better purchase market can wait long',\n",
       " 'received order tireless bluetooth earphone one pp mid not working nd pp mid working well can claim please guide waiting call cell no ',\n",
       " 'second product version one face wash sooooo worst second would not buy anything company',\n",
       " 'ordered small got ll ordered pink received black mistake although shirt quality good',\n",
       " 'packing discreet',\n",
       " 'delivered time quality pan good parcel safely delivered packing not mark packed within proper box ',\n",
       " 'terrible not worth price keys not work properly multiple pressed together worst thing ever bought dark anyone looking buy product not ever buy dark ',\n",
       " 'light good gives many brilliant effects would suggest use lights hiding behind something exposed probably give cheap look cut light connection able one corner guns want apply lights different places adapted light little bit tricky cut overall ',\n",
       " 'product not received fresh ',\n",
       " 'look great love style dress net not stitched properly ',\n",
       " 'less two months pen stop working',\n",
       " 'medical items ordered dark poorly package leading contamination crucial his notes not sterility proper packing dealing medical supplies negligence regard concerning can serious consequences ',\n",
       " 'good price range no comparison imported brand',\n",
       " 'charged extra much disappointed',\n",
       " 'unable understand can packed broken bottle broken bottle packed clear negligence packing boys compromised due hectic procedure return accepted anyway item original delivered time',\n",
       " 'not recommended bought packs not work ',\n",
       " 'not good normal quality ',\n",
       " 'product unfortunately technical issues not working properly return ',\n",
       " 'worked weeks cap got new one somewhere else one great',\n",
       " 'newest apple pencil newest apple pad not compatible utf',\n",
       " 'pathetic stopped working day like disposal tissue papers use days throw away ',\n",
       " 'size small even hand frees fit easily ',\n",
       " 'poor quality torn within one time use used fabric clean kitchen shelf way useful',\n",
       " 'good lightweight stuff also nice colour black not shown pick',\n",
       " 'local texture no guilty product his notes noted number shirts not guilty beware cheap product cheap price',\n",
       " 'not properly packed store one side not working battery time keep fluctuating increase decrease worst experience never ever buy store wastage time money ',\n",
       " 'quality lillbit low overall product good receive little damage parcel ',\n",
       " 'disappointed paid two received one handsfree go return process axis not that not like ',\n",
       " 'headlight mount bracket bad',\n",
       " 'fan not working received no concept testing delivering product customer could not check turning slamming people guns waste time buy ',\n",
       " 'never wrote review order however really disappointed annoyed order ordered new apple pencil not used one got used one at item not sealed could find evidence used weird stir not box manual not even touched also pencil crumbles disgusting return order ',\n",
       " 'poor quality audit',\n",
       " 'average product',\n",
       " 'ordered two underwears one skin color one black color received skin colored underwear kindly send black one ordered ',\n",
       " 'colour grey not black advertised ',\n",
       " 'damaged piece worthless',\n",
       " 'not mentioned pads second hand second hand one god order ',\n",
       " 'apple pencil two days miraculous decided stop working ',\n",
       " 'not not like pencil pencil looks like sad face instead straight box looks like got ran not know happened not happy waiting item got disappointed ',\n",
       " 'piece g half g price high',\n",
       " 'revived different product advertised damaged waste money not light not heavy duty ',\n",
       " 'third class quality',\n",
       " 'not received original product cheap quality worst experience never gone buy axis not ',\n",
       " 'normal per price ok',\n",
       " 'good product like blades not shaving deep ',\n",
       " 'battery timing not good not bad product cheap price picture delivery late satisfied packing also not good',\n",
       " 'product not original one bought sound quality not good',\n",
       " 'good product quite expensive peter length',\n",
       " 'strap quality excellent problem not fitting watch ',\n",
       " 'waste money easily available less half price ',\n",
       " 'received parcel not use yet',\n",
       " 'looking pan long time thankyou bringing product us consumers quality pan also quite good however inch skilled handle bit long weight adjustment ratio hard wrists small handle waiting pots stuff keep good work ',\n",
       " 'totally useless cheap plastic used send pus instead totally disappointed',\n",
       " 'literally snapped not worth price get cheaper deal somewhere',\n",
       " 'product good unfortunately find indoor unit damaged three places',\n",
       " 'not buy anything seller sent two price without charging cord scar seller held accountable act inshallah',\n",
       " 'not expecting like whatever price low',\n",
       " 'worst product',\n",
       " 'boat coat speaker ha charging pin ni said laity',\n",
       " 'keep pad case magnetic charging option complete his not prefer another charging option docks pad not continually take pad protective case charge pencil returning item ',\n",
       " 'big shirt nice shirt',\n",
       " 'product seems good let see ',\n",
       " 'bottle broken not totally satisfied product fine not really great experience not delivered good shape ',\n",
       " 'extremely disappointed st experience dark thank god not ordered smartphone planning buy item completely different ',\n",
       " 'quality not good justify price tag ',\n",
       " 'worst wallet ever looking gift someone pathetic bad quality wallet',\n",
       " 'remits not bad practice one head piece order opened call process mid voice poor quality ',\n",
       " 'wrong color terrible quality saddles not work complete waste money',\n",
       " 'not working ink happened turn not working ',\n",
       " 'seller needs improve quality material ',\n",
       " 'ok cracked',\n",
       " 'packing good d drivers missing',\n",
       " 'misplaced apple pen batteries must dead magnet section must stuck metal house haired battery fully charge can find new pencil please help',\n",
       " 'power battery not working fine',\n",
       " 'eh',\n",
       " 'quite small size good ',\n",
       " 'useless product toy',\n",
       " 'worst ever experience dark pack already open charged my my jar sent expired taste plzzz not waste or money',\n",
       " 'bad experience bad quality plastic weight maximum grass ',\n",
       " 'low quality rough product not safe baby cloth product can rash baby',\n",
       " 'worst product ever purchased ',\n",
       " 'ok product size small not much big shown picture ',\n",
       " 'not good package came opened broken ',\n",
       " 'product shown delivery perfect time loved order ',\n",
       " 'shirt not good expected its stick also coming ok like ',\n",
       " 'good experience glass size big must lit bit small received fully packed prefer shop axis not ',\n",
       " 'not received item',\n",
       " 'pathetic service charge not available think somebody taken charge box',\n",
       " 'first experience poor no comments no returned due no time no value item thanks',\n",
       " 'not know original face like sound quality amazing focus packing better improvement let see many days can last hope best',\n",
       " 'worst full mud new potatoes ',\n",
       " 'purchased says available pad not work ',\n",
       " 'quality poor shirts ordered marks disappointed ',\n",
       " 'bags smaller low quality',\n",
       " 'mineral sunscreen like chemical sunscreen horrible acne prone skin',\n",
       " 'ordered two new nd gen pencils one showed clearly previously opened wrapped amounts sandwich bag bucks kind slap face buy local apple direct not kind thing want order amazon zero accountability fly night vendor expensive easy superficially counterfeit knows used previous owner itchy fell best case scenario counterfeit battery not dangerous knockoff well guess best case scenario amazon talking customers know one not previously opened used works fine not touching one ',\n",
       " 'nice product compared price however brown color dark e not shown pick overall good product ',\n",
       " 'ordered red blue pink received orange yellow not single correct colour ',\n",
       " 'sure apple pencil nice beware big rugged case pad mandate daughter school pencil basically worthless every time daughter needs charge pencil use needs take case pad big ordeal even buy external charge not work touch pencil pad charge pad son poorly designed apple product ever seen students better buying generation pencil cheaper third party version ',\n",
       " 'received wrong item',\n",
       " 'normal quality ok product',\n",
       " 'different shown pick',\n",
       " 'pen working well th time using not charge have keep removing setting back charge charges like know got refund money back get different one send ',\n",
       " 'fraud advertisement chenghong cuba needs voice free fitting draw not sending voice person chenghong cuba asking is fitting charges',\n",
       " 'bad stuff ',\n",
       " 'stuff quality bad like food and bag material ',\n",
       " 'waste money totally ',\n",
       " ' rd class quality bad',\n",
       " 'product received saw pictures no manual fitting square cloth also short not fitted packing also not good finishing bad pipes clothes lips every side clothes sewed quality also bad not recommended',\n",
       " 'product good spelling mistakes book',\n",
       " 'not good price ok',\n",
       " 'bad product not satisfied acid used batteries aware product not use teeth',\n",
       " 'not sure amazon got shipment defective nd gen apple pencils long battery supposed last pencil months drop percent charged percent less hours use thought crazy reported pad pro charged axis not happens literally every time course happens days mark easy rip people way pad st gen can go days charge nd gen can fully charged dies mind literally like stealing dollars basically useless point type real world scenario ',\n",
       " 'remote not working ',\n",
       " 'disappointed stopped working months tried everything would not work ',\n",
       " 'not made difference',\n",
       " 'would not work pad ',\n",
       " 'amazing stroke effect not work',\n",
       " 'get product already broken oil leak',\n",
       " 'drawback send wrong colour',\n",
       " 'quality size much better big respectively thought manage size the',\n",
       " 'bad quality not specified pictures highly not recommended ',\n",
       " 'colours not shown',\n",
       " 'really like easy apply give great new look set room one thing weird applied easily remote would not control recommended set room ',\n",
       " 'less year hardly many use following one apple many updated pencil completely died multiple attempts starting pad turning bluetooth dating hard starting even forgetting existing connections entirely nothing even attempted oddball solution someone suggested wrapping copper wire around get grey apple pencil pop no change tapping no indication charge nothing considering thing simply stayed desk time extortionate price product quite excusable best built shod battery cry minor use unlucky far likely given apple history quite frank built cheap can full expectation pay outrageous repair fees replace faulty products outright save money not buy apple products quality never specially never apparent thing june regret not simply buying dedicated tablet drawing end spent worse product got screwed result learn mistakes ',\n",
       " 'nice quality order one different number ',\n",
       " 'think something missing box hole fix not properly built however touch button',\n",
       " 'extreme excitement bought connection release new pad air tried draw connect not scribble draw anything need return waiting replacement hope next one not hopes ',\n",
       " 'good product not get speed edition control edition',\n",
       " 'face seller got shock third class kiss months baby instead mass reviews face paid go top seller scalers ',\n",
       " 'ordered safeguard soap grass opened parcel pieces found pay price really disappointed seller therefore made poor comments seller please upgrade services',\n",
       " 'cheap product cheap quality small size',\n",
       " 'works good accuracy personally hate writing pad great sign documents annette stops far concerned ',\n",
       " 'got yesterday left side giving less audit side opposite giving problems can deal thank ',\n",
       " 'product good little bit adjustment made working ok ',\n",
       " 'not like low quality like casual grocer bags thought stuff would thick grocer bags stuff',\n",
       " ' price not deserve item quality good',\n",
       " 'light low ok use',\n",
       " 'literally not work rest pad connected pencil still would not work inside tip filthy like completely dirty nasty cleaned see would work still nothing never axis not buy ',\n",
       " 'bad quality product',\n",
       " 'time couture runs time not run even good internet',\n",
       " 'broken jar can seen even packing dark mary days become irritant delivered product issues customer return disappointed ',\n",
       " 'not buy waste money barely get fas ta can even play fortunate rocket league waste money',\n",
       " 'ok',\n",
       " 'hello goods working ',\n",
       " 'product quality no best',\n",
       " 'product quality average price mirror view average delivery within time good packing dark seller best services satisfied delivery footstep ',\n",
       " 'media could not loaded ',\n",
       " 'bad packing',\n",
       " 'received shown big face',\n",
       " 'disputing one side god charge not working',\n",
       " 'color changed said send picture seller anyway quality good recommend ',\n",
       " 'media could not loaded apple pencil came already opened tip damaged ',\n",
       " 'placed order last night received ac today quick service warranty card not inside inverted not mentioned box made video opening boxes no one replying til flagship store contact provide warranty card update review else going return product dark help asking contact company return cannot help provide warranty card ',\n",
       " 'hey go light however missing adapted can not really use would love can delivered well seller shared send ',\n",
       " 'potatoes quality normal price low market',\n",
       " 'bit thin soft overall good serves purpose thanks dark seller recommended',\n",
       " 'not good not bad bag stuff not good ',\n",
       " 'bought twins needed school neither one pencil inside box looks official insert no product ridiculous',\n",
       " 'received birthday present brand new pad pro pencil not charge right brand new box would not work pad reading reviews confused whether not pencil even works pad questions answered says works third generation pad pro others say works pad pad purchased pencil pad works great pencils piece cap better buying cheaper versions huge disappointed apple yet axis not ',\n",
       " 'little slow',\n",
       " 'not good left rashes',\n",
       " 'sending back would not charge',\n",
       " 'waste money',\n",
       " 'no value money pure wastage',\n",
       " 'satisfied seller one bag not grip otherwise fine',\n",
       " 'not buy not recommended leaves marks skin',\n",
       " 'medical product received dark not described specification mentioned webster completely different received frustration misleading receive product not match advertised features ',\n",
       " 'packing really bad received broken ',\n",
       " 'inferior quality product ',\n",
       " 'poor experience quality bad it broken ',\n",
       " 'exactly shown pictures beautiful product not cotton ',\n",
       " 'not buy third class quality',\n",
       " 'product quality bad dropped means liquid sustain noted dropped tube press pad dropped liquid dropped',\n",
       " 'shirt stir not different sites ',\n",
       " 'got today not come tip went apple store buy still not work could not fix ended buying new pencil spot buy new one apple save time money ',\n",
       " 'local peace',\n",
       " 'never recommend anybody order bad experience ',\n",
       " 'poor packing sent wrong product ',\n",
       " 'lights not working ',\n",
       " 'order delayed clot no reason dark canceled order asked no answer dark also called installation technical asking money although installation free',\n",
       " 'battery trimming poor less hour',\n",
       " 'ordered grey colour send red one shoes scratches disappointed ordered received',\n",
       " 'amazing products really like size small',\n",
       " 'wry disappointing see manufacturing date water june july selling one year old water mentioned manufacturing expire date page customer',\n",
       " 'can used heavy duty room',\n",
       " 'shown thick picture not delivered product',\n",
       " 'disappointed one piece mirror damage ',\n",
       " ...]"
      ]
     },
     "execution_count": 33,
     "metadata": {},
     "output_type": "execute_result"
    }
   ],
   "source": [
    "negative_reviews = [review for review in reviews_data[reviews_data['Sentiments'] == 0]['Reviews']]\n",
    "negative_reviews"
   ]
  },
  {
   "cell_type": "code",
   "execution_count": 34,
   "metadata": {},
   "outputs": [
    {
     "data": {
      "text/html": [
       "<div>\n",
       "<style scoped>\n",
       "    .dataframe tbody tr th:only-of-type {\n",
       "        vertical-align: middle;\n",
       "    }\n",
       "\n",
       "    .dataframe tbody tr th {\n",
       "        vertical-align: top;\n",
       "    }\n",
       "\n",
       "    .dataframe thead th {\n",
       "        text-align: right;\n",
       "    }\n",
       "</style>\n",
       "<table border=\"1\" class=\"dataframe\">\n",
       "  <thead>\n",
       "    <tr style=\"text-align: right;\">\n",
       "      <th></th>\n",
       "      <th>Review</th>\n",
       "    </tr>\n",
       "  </thead>\n",
       "  <tbody>\n",
       "    <tr>\n",
       "      <th>0</th>\n",
       "      <td>trouser stuff good shirt poor quality</td>\n",
       "    </tr>\n",
       "    <tr>\n",
       "      <th>1</th>\n",
       "      <td>not leather jacket magazine quality not per de...</td>\n",
       "    </tr>\n",
       "    <tr>\n",
       "      <th>2</th>\n",
       "      <td>fragrance short shelf life months started deve...</td>\n",
       "    </tr>\n",
       "    <tr>\n",
       "      <th>3</th>\n",
       "      <td>satisfied product good quality product</td>\n",
       "    </tr>\n",
       "    <tr>\n",
       "      <th>4</th>\n",
       "      <td>look ordered received</td>\n",
       "    </tr>\n",
       "    <tr>\n",
       "      <th>...</th>\n",
       "      <td>...</td>\n",
       "    </tr>\n",
       "    <tr>\n",
       "      <th>5813</th>\n",
       "      <td>pencil stopped charging stopped working right ...</td>\n",
       "    </tr>\n",
       "    <tr>\n",
       "      <th>5814</th>\n",
       "      <td>good quality touch material watch however show...</td>\n",
       "    </tr>\n",
       "    <tr>\n",
       "      <th>5815</th>\n",
       "      <td>ok not much ok ok sound good need improve pack...</td>\n",
       "    </tr>\n",
       "    <tr>\n",
       "      <th>5816</th>\n",
       "      <td>packing not fine</td>\n",
       "    </tr>\n",
       "    <tr>\n",
       "      <th>5817</th>\n",
       "      <td>connected motordata pp year subscription carsc...</td>\n",
       "    </tr>\n",
       "  </tbody>\n",
       "</table>\n",
       "<p>5818 rows × 1 columns</p>\n",
       "</div>"
      ],
      "text/plain": [
       "                                                 Review\n",
       "0                 trouser stuff good shirt poor quality\n",
       "1     not leather jacket magazine quality not per de...\n",
       "2     fragrance short shelf life months started deve...\n",
       "3                satisfied product good quality product\n",
       "4                                look ordered received \n",
       "...                                                 ...\n",
       "5813  pencil stopped charging stopped working right ...\n",
       "5814  good quality touch material watch however show...\n",
       "5815  ok not much ok ok sound good need improve pack...\n",
       "5816                                   packing not fine\n",
       "5817  connected motordata pp year subscription carsc...\n",
       "\n",
       "[5818 rows x 1 columns]"
      ]
     },
     "execution_count": 34,
     "metadata": {},
     "output_type": "execute_result"
    }
   ],
   "source": [
    "negative_reviews_df = pd.DataFrame(negative_reviews, columns=['Review'])\n",
    "negative_reviews_df"
   ]
  },
  {
   "cell_type": "code",
   "execution_count": 35,
   "metadata": {},
   "outputs": [],
   "source": [
    "departments_keywords = {\n",
    "    \"Customer Service\": [\n",
    "        \"service\", \"support\", \"customer service\", \"help\", \"response\", \"rude\", \"behavior\", \"polite\", \"agent\", \"call\", \"email\",\n",
    "        \"assistance\", \"aid\", \"care\", \"courtesy\", \"treatment\", \"interaction\", \"representative\", \"communication\", \"reply\", \"feedback\"\n",
    "    ],\n",
    "    \"Product Quality\": [\n",
    "        \"product\", \"quality\", \"defective\", \"broken\", \"durable\", \"material\", \"build\", \"manufacture\", \"craftsmanship\", \"faulty\", \"not working\", \"difficult\",\n",
    "        \"item\", \"standard\", \"wastage\",\"flawed\", \"damaged\", \"component\", \"construction\", \"production\", \"workmanship\", \"malfunctioning\", \"inoperative\", \"challenging\"\n",
    "    ],\n",
    "    \"Shipping\": [\n",
    "        \"shipping\", \"delayed\", \"package\", \"sealed\", \"arrived\", \"late delivery\", \"courier\", \"tracking\", \"shipment\", \"dispatch\", \"fast\", \"slow\",\n",
    "        \"delivery\", \"postponed\", \"parcel\", \"wrapped\", \"received\", \"carrier\", \"monitoring\", \"consignment\", \"send\", \"quick\"\n",
    "    ],\n",
    "    \"Technical Support\": [\n",
    "        \"technical\", \"tech support\", \"IT\", \"software\", \"hardware\", \"bug\", \"issue\", \"glitch\", \"error\", \"malfunction\", \"install\", \"update\",\n",
    "        \"technological\", \"technical assistance\", \"information technology\", \"program\", \"device\", \"fault\", \"problem\", \"flaw\", \"mistake\", \"breakdown\", \"setup\", \"upgrade\"\n",
    "    ],\n",
    "    \"Marketing\": [\n",
    "        \"marketing\", \"advertising\", \"promotion\", \"campaign\", \"brand\", \"advertised\", \"strategy\", \"market\", \"target\",\n",
    "        \"promotion\", \"publicity\", \"advertisement\", \"drive\", \"branding\", \"marketed\"\n",
    "    ],\n",
    "    \"Sales\": [\n",
    "        \"sales\", \"purchase\", \"buy\", \"order\", \"pricing\", \"discount\", \"offer\", \"deal\", \"cost\", \"checkout\", \"price\",\n",
    "        \"transactions\", \"acquisition\", \"procure\", \"command\", \"rate\", \"reduction\", \"proposal\", \"bargain\", \"expense\", \"payment\", \"value\"\n",
    "    ]\n",
    "}\n"
   ]
  },
  {
   "cell_type": "code",
   "execution_count": 36,
   "metadata": {},
   "outputs": [],
   "source": [
    "# Function to assign departments based on keywords\n",
    "def assign_departments(review):\n",
    "    assigned_departments = []\n",
    "    for department, keywords in departments_keywords.items():\n",
    "        if any(keyword in review.lower() for keyword in keywords):\n",
    "            assigned_departments.append(department)\n",
    "    return ', '.join(assigned_departments) if assigned_departments else \"General\""
   ]
  },
  {
   "cell_type": "code",
   "execution_count": 37,
   "metadata": {},
   "outputs": [],
   "source": [
    "negative_reviews_df['Departments'] = negative_reviews_df['Review'].apply(assign_departments)"
   ]
  },
  {
   "cell_type": "code",
   "execution_count": 85,
   "metadata": {},
   "outputs": [],
   "source": [
    "negative_reviews_df.to_csv(\"departments.csv\")"
   ]
  },
  {
   "cell_type": "code",
   "execution_count": 38,
   "metadata": {},
   "outputs": [
    {
     "data": {
      "text/html": [
       "<div>\n",
       "<style scoped>\n",
       "    .dataframe tbody tr th:only-of-type {\n",
       "        vertical-align: middle;\n",
       "    }\n",
       "\n",
       "    .dataframe tbody tr th {\n",
       "        vertical-align: top;\n",
       "    }\n",
       "\n",
       "    .dataframe thead th {\n",
       "        text-align: right;\n",
       "    }\n",
       "</style>\n",
       "<table border=\"1\" class=\"dataframe\">\n",
       "  <thead>\n",
       "    <tr style=\"text-align: right;\">\n",
       "      <th></th>\n",
       "      <th>Review</th>\n",
       "      <th>Departments</th>\n",
       "    </tr>\n",
       "  </thead>\n",
       "  <tbody>\n",
       "    <tr>\n",
       "      <th>0</th>\n",
       "      <td>trouser stuff good shirt poor quality</td>\n",
       "      <td>Product Quality</td>\n",
       "    </tr>\n",
       "    <tr>\n",
       "      <th>1</th>\n",
       "      <td>not leather jacket magazine quality not per de...</td>\n",
       "      <td>Product Quality</td>\n",
       "    </tr>\n",
       "    <tr>\n",
       "      <th>2</th>\n",
       "      <td>fragrance short shelf life months started deve...</td>\n",
       "      <td>Product Quality, Shipping</td>\n",
       "    </tr>\n",
       "    <tr>\n",
       "      <th>3</th>\n",
       "      <td>satisfied product good quality product</td>\n",
       "      <td>Product Quality</td>\n",
       "    </tr>\n",
       "    <tr>\n",
       "      <th>4</th>\n",
       "      <td>look ordered received</td>\n",
       "      <td>Shipping, Sales</td>\n",
       "    </tr>\n",
       "    <tr>\n",
       "      <th>...</th>\n",
       "      <td>...</td>\n",
       "      <td>...</td>\n",
       "    </tr>\n",
       "    <tr>\n",
       "      <th>5813</th>\n",
       "      <td>pencil stopped charging stopped working right ...</td>\n",
       "      <td>General</td>\n",
       "    </tr>\n",
       "    <tr>\n",
       "      <th>5814</th>\n",
       "      <td>good quality touch material watch however show...</td>\n",
       "      <td>Product Quality</td>\n",
       "    </tr>\n",
       "    <tr>\n",
       "      <th>5815</th>\n",
       "      <td>ok not much ok ok sound good need improve pack...</td>\n",
       "      <td>Product Quality</td>\n",
       "    </tr>\n",
       "    <tr>\n",
       "      <th>5816</th>\n",
       "      <td>packing not fine</td>\n",
       "      <td>General</td>\n",
       "    </tr>\n",
       "    <tr>\n",
       "      <th>5817</th>\n",
       "      <td>connected motordata pp year subscription carsc...</td>\n",
       "      <td>General</td>\n",
       "    </tr>\n",
       "  </tbody>\n",
       "</table>\n",
       "<p>5818 rows × 2 columns</p>\n",
       "</div>"
      ],
      "text/plain": [
       "                                                 Review  \\\n",
       "0                 trouser stuff good shirt poor quality   \n",
       "1     not leather jacket magazine quality not per de...   \n",
       "2     fragrance short shelf life months started deve...   \n",
       "3                satisfied product good quality product   \n",
       "4                                look ordered received    \n",
       "...                                                 ...   \n",
       "5813  pencil stopped charging stopped working right ...   \n",
       "5814  good quality touch material watch however show...   \n",
       "5815  ok not much ok ok sound good need improve pack...   \n",
       "5816                                   packing not fine   \n",
       "5817  connected motordata pp year subscription carsc...   \n",
       "\n",
       "                    Departments  \n",
       "0               Product Quality  \n",
       "1               Product Quality  \n",
       "2     Product Quality, Shipping  \n",
       "3               Product Quality  \n",
       "4               Shipping, Sales  \n",
       "...                         ...  \n",
       "5813                    General  \n",
       "5814            Product Quality  \n",
       "5815            Product Quality  \n",
       "5816                    General  \n",
       "5817                    General  \n",
       "\n",
       "[5818 rows x 2 columns]"
      ]
     },
     "execution_count": 38,
     "metadata": {},
     "output_type": "execute_result"
    }
   ],
   "source": [
    "negative_reviews_df"
   ]
  },
  {
   "cell_type": "code",
   "execution_count": 1,
   "metadata": {},
   "outputs": [
    {
     "name": "stdout",
     "output_type": "stream",
     "text": [
      "Collecting TextBlobNote: you may need to restart the kernel to use updated packages.\n",
      "\n",
      "  Downloading textblob-0.18.0.post0-py3-none-any.whl.metadata (4.5 kB)\n",
      "Requirement already satisfied: nltk>=3.8 in e:\\anaconda\\lib\\site-packages (from TextBlob) (3.8.1)\n",
      "Requirement already satisfied: click in e:\\anaconda\\lib\\site-packages (from nltk>=3.8->TextBlob) (8.1.7)\n",
      "Requirement already satisfied: joblib in e:\\anaconda\\lib\\site-packages (from nltk>=3.8->TextBlob) (1.2.0)\n",
      "Requirement already satisfied: regex>=2021.8.3 in e:\\anaconda\\lib\\site-packages (from nltk>=3.8->TextBlob) (2023.10.3)\n",
      "Requirement already satisfied: tqdm in e:\\anaconda\\lib\\site-packages (from nltk>=3.8->TextBlob) (4.65.0)\n",
      "Requirement already satisfied: colorama in e:\\anaconda\\lib\\site-packages (from click->nltk>=3.8->TextBlob) (0.4.6)\n",
      "Downloading textblob-0.18.0.post0-py3-none-any.whl (626 kB)\n",
      "   ---------------------------------------- 0.0/626.3 kB ? eta -:--:--\n",
      "   ---------------------------------------- 0.0/626.3 kB ? eta -:--:--\n",
      "    --------------------------------------- 10.2/626.3 kB ? eta -:--:--\n",
      "    --------------------------------------- 10.2/626.3 kB ? eta -:--:--\n",
      "   - ------------------------------------- 30.7/626.3 kB 163.8 kB/s eta 0:00:04\n",
      "   - ------------------------------------- 30.7/626.3 kB 163.8 kB/s eta 0:00:04\n",
      "   --- ----------------------------------- 61.4/626.3 kB 252.2 kB/s eta 0:00:03\n",
      "   ----- --------------------------------- 92.2/626.3 kB 327.7 kB/s eta 0:00:02\n",
      "   --------- ---------------------------- 163.8/626.3 kB 492.3 kB/s eta 0:00:01\n",
      "   ---------- --------------------------- 174.1/626.3 kB 456.4 kB/s eta 0:00:01\n",
      "   -------------- ----------------------- 245.8/626.3 kB 580.1 kB/s eta 0:00:01\n",
      "   ----------------- -------------------- 286.7/626.3 kB 632.7 kB/s eta 0:00:01\n",
      "   ------------------- ------------------ 327.7/626.3 kB 634.9 kB/s eta 0:00:01\n",
      "   ------------------- ------------------ 327.7/626.3 kB 634.9 kB/s eta 0:00:01\n",
      "   --------------------------- ---------- 450.6/626.3 kB 742.5 kB/s eta 0:00:01\n",
      "   --------------------------- ---------- 450.6/626.3 kB 742.5 kB/s eta 0:00:01\n",
      "   ----------------------------------- -- 583.7/626.3 kB 853.3 kB/s eta 0:00:01\n",
      "   -------------------------------------- 626.3/626.3 kB 858.1 kB/s eta 0:00:00\n",
      "Installing collected packages: TextBlob\n",
      "Successfully installed TextBlob-0.18.0.post0\n"
     ]
    }
   ],
   "source": [
    "pip install TextBlob"
   ]
  },
  {
   "cell_type": "code",
   "execution_count": 2,
   "metadata": {},
   "outputs": [
    {
     "name": "stderr",
     "output_type": "stream",
     "text": [
      "[nltk_data] Downloading package stopwords to\n",
      "[nltk_data]     C:\\Users\\Dell\\AppData\\Roaming\\nltk_data...\n",
      "[nltk_data]   Package stopwords is already up-to-date!\n",
      "[nltk_data] Downloading package punkt to\n",
      "[nltk_data]     C:\\Users\\Dell\\AppData\\Roaming\\nltk_data...\n",
      "[nltk_data]   Package punkt is already up-to-date!\n",
      "[nltk_data] Downloading package wordnet to\n",
      "[nltk_data]     C:\\Users\\Dell\\AppData\\Roaming\\nltk_data...\n"
     ]
    },
    {
     "data": {
      "text/plain": [
       "True"
      ]
     },
     "execution_count": 2,
     "metadata": {},
     "output_type": "execute_result"
    }
   ],
   "source": [
    "import nltk\n",
    "nltk.download('stopwords')\n",
    "nltk.download('punkt')\n",
    "nltk.download('wordnet')"
   ]
  },
  {
   "cell_type": "code",
   "execution_count": null,
   "metadata": {},
   "outputs": [],
   "source": []
  }
 ],
 "metadata": {
  "kernelspec": {
   "display_name": "base",
   "language": "python",
   "name": "python3"
  },
  "language_info": {
   "codemirror_mode": {
    "name": "ipython",
    "version": 3
   },
   "file_extension": ".py",
   "mimetype": "text/x-python",
   "name": "python",
   "nbconvert_exporter": "python",
   "pygments_lexer": "ipython3",
   "version": "3.11.7"
  }
 },
 "nbformat": 4,
 "nbformat_minor": 2
}
